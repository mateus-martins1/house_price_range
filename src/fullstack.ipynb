{
 "cells": [
  {
   "cell_type": "code",
   "execution_count": 1,
   "id": "36e1aef6",
   "metadata": {},
   "outputs": [],
   "source": [
    "!pip install feature_engine -q"
   ]
  },
  {
   "cell_type": "code",
   "execution_count": 2,
   "id": "ae3e8e5c",
   "metadata": {},
   "outputs": [],
   "source": [
    "!pip install category_encoders -q"
   ]
  },
  {
   "cell_type": "markdown",
   "id": "54db9bcf",
   "metadata": {},
   "source": [
    "# imports"
   ]
  },
  {
   "cell_type": "code",
   "execution_count": 3,
   "id": "56e37e4d",
   "metadata": {},
   "outputs": [],
   "source": [
    "import pandas as pd\n",
    "import matplotlib.pyplot as plt\n",
    "\n",
    "from sklearn.model_selection import train_test_split\n",
    "from category_encoders.ordinal import OrdinalEncoder\n",
    "from sklearn import tree\n",
    "from sklearn.preprocessing import MinMaxScaler\n",
    "from sklearn.metrics import confusion_matrix, ConfusionMatrixDisplay\n",
    "from sklearn.metrics import (\n",
    "    accuracy_score, \n",
    "    precision_score, \n",
    "    recall_score, \n",
    "    f1_score, \n",
    "    confusion_matrix, \n",
    "    classification_report\n",
    ")\n",
    "import joblib"
   ]
  },
  {
   "cell_type": "code",
   "execution_count": 4,
   "id": "a4566f8d",
   "metadata": {},
   "outputs": [],
   "source": [
    "# to display all the columns of the dataframe in the notebook\n",
    "pd.pandas.set_option('display.max_columns', None)"
   ]
  },
  {
   "cell_type": "markdown",
   "id": "a042bc1e",
   "metadata": {},
   "source": [
    "# read dataframe"
   ]
  },
  {
   "cell_type": "code",
   "execution_count": 5,
   "id": "10fa478e",
   "metadata": {},
   "outputs": [
    {
     "name": "stdout",
     "output_type": "stream",
     "text": [
      "(10000, 16)\n"
     ]
    },
    {
     "data": {
      "text/html": [
       "<div>\n",
       "<style scoped>\n",
       "    .dataframe tbody tr th:only-of-type {\n",
       "        vertical-align: middle;\n",
       "    }\n",
       "\n",
       "    .dataframe tbody tr th {\n",
       "        vertical-align: top;\n",
       "    }\n",
       "\n",
       "    .dataframe thead th {\n",
       "        text-align: right;\n",
       "    }\n",
       "</style>\n",
       "<table border=\"1\" class=\"dataframe\">\n",
       "  <thead>\n",
       "    <tr style=\"text-align: right;\">\n",
       "      <th></th>\n",
       "      <th>uid</th>\n",
       "      <th>city</th>\n",
       "      <th>description</th>\n",
       "      <th>homeType</th>\n",
       "      <th>latitude</th>\n",
       "      <th>longitude</th>\n",
       "      <th>garageSpaces</th>\n",
       "      <th>hasSpa</th>\n",
       "      <th>yearBuilt</th>\n",
       "      <th>numOfPatioAndPorchFeatures</th>\n",
       "      <th>lotSizeSqFt</th>\n",
       "      <th>avgSchoolRating</th>\n",
       "      <th>MedianStudentsPerTeacher</th>\n",
       "      <th>numOfBathrooms</th>\n",
       "      <th>numOfBedrooms</th>\n",
       "      <th>priceRange</th>\n",
       "    </tr>\n",
       "  </thead>\n",
       "  <tbody>\n",
       "    <tr>\n",
       "      <th>0</th>\n",
       "      <td>1748</td>\n",
       "      <td>austin</td>\n",
       "      <td>MULTIPLE OFFERS submit best &amp; final to Agent b...</td>\n",
       "      <td>Single Family</td>\n",
       "      <td>30.380089</td>\n",
       "      <td>-97.800621</td>\n",
       "      <td>0</td>\n",
       "      <td>False</td>\n",
       "      <td>1988</td>\n",
       "      <td>0</td>\n",
       "      <td>102366.0</td>\n",
       "      <td>7.000000</td>\n",
       "      <td>17</td>\n",
       "      <td>4.0</td>\n",
       "      <td>4</td>\n",
       "      <td>650000+</td>\n",
       "    </tr>\n",
       "    <tr>\n",
       "      <th>1</th>\n",
       "      <td>13380</td>\n",
       "      <td>austin</td>\n",
       "      <td>4644 Hoffman Dr, Austin, TX 78749 is a single ...</td>\n",
       "      <td>Single Family</td>\n",
       "      <td>30.199486</td>\n",
       "      <td>-97.859947</td>\n",
       "      <td>0</td>\n",
       "      <td>False</td>\n",
       "      <td>1997</td>\n",
       "      <td>0</td>\n",
       "      <td>6534.0</td>\n",
       "      <td>6.666667</td>\n",
       "      <td>16</td>\n",
       "      <td>3.0</td>\n",
       "      <td>4</td>\n",
       "      <td>350000-450000</td>\n",
       "    </tr>\n",
       "    <tr>\n",
       "      <th>2</th>\n",
       "      <td>4115</td>\n",
       "      <td>austin</td>\n",
       "      <td>6804 Canal St, Austin, TX 78741 is a single fa...</td>\n",
       "      <td>Single Family</td>\n",
       "      <td>30.227398</td>\n",
       "      <td>-97.696083</td>\n",
       "      <td>0</td>\n",
       "      <td>False</td>\n",
       "      <td>1952</td>\n",
       "      <td>0</td>\n",
       "      <td>5619.0</td>\n",
       "      <td>3.333333</td>\n",
       "      <td>11</td>\n",
       "      <td>1.0</td>\n",
       "      <td>2</td>\n",
       "      <td>0-250000</td>\n",
       "    </tr>\n",
       "  </tbody>\n",
       "</table>\n",
       "</div>"
      ],
      "text/plain": [
       "     uid    city                                        description  \\\n",
       "0   1748  austin  MULTIPLE OFFERS submit best & final to Agent b...   \n",
       "1  13380  austin  4644 Hoffman Dr, Austin, TX 78749 is a single ...   \n",
       "2   4115  austin  6804 Canal St, Austin, TX 78741 is a single fa...   \n",
       "\n",
       "        homeType   latitude  longitude  garageSpaces  hasSpa  yearBuilt  \\\n",
       "0  Single Family  30.380089 -97.800621             0   False       1988   \n",
       "1  Single Family  30.199486 -97.859947             0   False       1997   \n",
       "2  Single Family  30.227398 -97.696083             0   False       1952   \n",
       "\n",
       "   numOfPatioAndPorchFeatures  lotSizeSqFt  avgSchoolRating  \\\n",
       "0                           0     102366.0         7.000000   \n",
       "1                           0       6534.0         6.666667   \n",
       "2                           0       5619.0         3.333333   \n",
       "\n",
       "   MedianStudentsPerTeacher  numOfBathrooms  numOfBedrooms     priceRange  \n",
       "0                        17             4.0              4        650000+  \n",
       "1                        16             3.0              4  350000-450000  \n",
       "2                        11             1.0              2       0-250000  "
      ]
     },
     "execution_count": 5,
     "metadata": {},
     "output_type": "execute_result"
    }
   ],
   "source": [
    "path = \"../df/train.csv\"\n",
    "\n",
    "df = pd.read_csv(path)\n",
    "print(df.shape)\n",
    "df.head(3)"
   ]
  },
  {
   "cell_type": "markdown",
   "id": "0391e700",
   "metadata": {},
   "source": [
    "# Feature selection and engineering"
   ]
  },
  {
   "cell_type": "code",
   "execution_count": 6,
   "id": "503162b0",
   "metadata": {},
   "outputs": [
    {
     "data": {
      "text/plain": [
       "uid                             int64\n",
       "city                           object\n",
       "description                    object\n",
       "homeType                       object\n",
       "latitude                      float64\n",
       "longitude                     float64\n",
       "garageSpaces                    int64\n",
       "hasSpa                           bool\n",
       "yearBuilt                       int64\n",
       "numOfPatioAndPorchFeatures      int64\n",
       "lotSizeSqFt                   float64\n",
       "avgSchoolRating               float64\n",
       "MedianStudentsPerTeacher        int64\n",
       "numOfBathrooms                float64\n",
       "numOfBedrooms                   int64\n",
       "priceRange                     object\n",
       "dtype: object"
      ]
     },
     "execution_count": 6,
     "metadata": {},
     "output_type": "execute_result"
    }
   ],
   "source": [
    "df.dtypes"
   ]
  },
  {
   "cell_type": "code",
   "execution_count": 7,
   "id": "877bc98f",
   "metadata": {},
   "outputs": [
    {
     "data": {
      "text/plain": [
       "array(['MULTIPLE OFFERS submit best & final to Agent by Mon 21st - 5pm. Appt with Agent.  RARE PANORAMIC VIEW LOT IN JESTER ESTATES SEE FOR MILES!!  Home sits on Cul-de-sac & backs to a Preserve.  Stunning remodeled Kitchen & Bathrooms. Master suite is a private sanctuary with chic master bath, huge bedroom, walk-in closet & private deck.  Jester has a pool, park, tennis courts & feeds into Anderson High.  This home has been well loved & features 3 living areas, an office, & 3 car garage.',\n",
       "       '4644 Hoffman Dr, Austin, TX 78749 is a single family home that contains 2,059 sq ft and was built in 1997. It contains 4 bedrooms and 3 bathrooms. \\r\\n \\r\\n',\n",
       "       '6804 Canal St, Austin, TX 78741 is a single family home that contains 832 sq ft and was built in 1952. It contains 2 bedrooms and 1 bathroom. \\r\\n \\r\\n',\n",
       "       ...,\n",
       "       '7322 Gaines Mill Ln, Austin, TX 78745 is a single family home that contains 1,779 sq ft and was built in 1981. It contains 3 bedrooms and 2 bathrooms. \\r\\n \\r\\n',\n",
       "       '5213 Doe Valley Ln, Austin, TX 78759 is a single family home that contains 2,018 sq ft and was built in 1979. It contains 3 bedrooms and 3 bathrooms. \\r\\n \\r\\n',\n",
       "       'Beautiful single-story home with open floor plan in great neighborhood. Spacious living room opens to dining area and kitchen with breakfast bar, granite counters, 42 inch cabinets, and tiled backsplash. Wood laminate flooring in main living areas. 9 ft ceilings throughout. Master suite with dual vanity and garden tub. Master planned community with on-site elementary school and lots of amenities. Great location close to major tech employers w/easy access to Hwy 290 and just 15 min from downtown Austin.'],\n",
       "      dtype=object)"
      ]
     },
     "execution_count": 7,
     "metadata": {},
     "output_type": "execute_result"
    }
   ],
   "source": [
    "df['description'].unique()"
   ]
  },
  {
   "cell_type": "code",
   "execution_count": 8,
   "id": "7265fadf",
   "metadata": {},
   "outputs": [
    {
     "data": {
      "text/plain": [
       "array(['austin', 'pflugerville', 'del valle', 'manchaca',\n",
       "       'dripping springs', 'west lake hills', 'driftwood'], dtype=object)"
      ]
     },
     "execution_count": 8,
     "metadata": {},
     "output_type": "execute_result"
    }
   ],
   "source": [
    "df['city'].unique()"
   ]
  },
  {
   "cell_type": "code",
   "execution_count": 9,
   "id": "cae2bc70",
   "metadata": {},
   "outputs": [
    {
     "data": {
      "text/plain": [
       "array(['Single Family', 'Multiple Occupancy', 'Condo', 'Apartment',\n",
       "       'MultiFamily', 'Townhouse', 'Other', 'Residential',\n",
       "       'Mobile / Manufactured', 'Vacant Land'], dtype=object)"
      ]
     },
     "execution_count": 9,
     "metadata": {},
     "output_type": "execute_result"
    }
   ],
   "source": [
    "df['homeType'].unique()"
   ]
  },
  {
   "cell_type": "code",
   "execution_count": 10,
   "id": "c32a3baa",
   "metadata": {},
   "outputs": [
    {
     "data": {
      "text/plain": [
       "array(['650000+', '350000-450000', '0-250000', '450000-650000',\n",
       "       '250000-350000'], dtype=object)"
      ]
     },
     "execution_count": 10,
     "metadata": {},
     "output_type": "execute_result"
    }
   ],
   "source": [
    "df['priceRange'].unique()"
   ]
  },
  {
   "cell_type": "code",
   "execution_count": 11,
   "id": "b4ce88ab",
   "metadata": {},
   "outputs": [
    {
     "data": {
      "text/html": [
       "<div>\n",
       "<style scoped>\n",
       "    .dataframe tbody tr th:only-of-type {\n",
       "        vertical-align: middle;\n",
       "    }\n",
       "\n",
       "    .dataframe tbody tr th {\n",
       "        vertical-align: top;\n",
       "    }\n",
       "\n",
       "    .dataframe thead th {\n",
       "        text-align: right;\n",
       "    }\n",
       "</style>\n",
       "<table border=\"1\" class=\"dataframe\">\n",
       "  <thead>\n",
       "    <tr style=\"text-align: right;\">\n",
       "      <th></th>\n",
       "      <th>city</th>\n",
       "      <th>homeType</th>\n",
       "      <th>latitude</th>\n",
       "      <th>longitude</th>\n",
       "      <th>garageSpaces</th>\n",
       "      <th>hasSpa</th>\n",
       "      <th>yearBuilt</th>\n",
       "      <th>numOfPatioAndPorchFeatures</th>\n",
       "      <th>lotSizeSqFt</th>\n",
       "      <th>avgSchoolRating</th>\n",
       "      <th>MedianStudentsPerTeacher</th>\n",
       "      <th>numOfBathrooms</th>\n",
       "      <th>numOfBedrooms</th>\n",
       "      <th>priceRange</th>\n",
       "    </tr>\n",
       "  </thead>\n",
       "  <tbody>\n",
       "    <tr>\n",
       "      <th>0</th>\n",
       "      <td>austin</td>\n",
       "      <td>Single Family</td>\n",
       "      <td>30.380089</td>\n",
       "      <td>-97.800621</td>\n",
       "      <td>0</td>\n",
       "      <td>False</td>\n",
       "      <td>1988</td>\n",
       "      <td>0</td>\n",
       "      <td>102366.0</td>\n",
       "      <td>7.0</td>\n",
       "      <td>17</td>\n",
       "      <td>4.0</td>\n",
       "      <td>4</td>\n",
       "      <td>650000+</td>\n",
       "    </tr>\n",
       "  </tbody>\n",
       "</table>\n",
       "</div>"
      ],
      "text/plain": [
       "     city       homeType   latitude  longitude  garageSpaces  hasSpa  \\\n",
       "0  austin  Single Family  30.380089 -97.800621             0   False   \n",
       "\n",
       "   yearBuilt  numOfPatioAndPorchFeatures  lotSizeSqFt  avgSchoolRating  \\\n",
       "0       1988                           0     102366.0              7.0   \n",
       "\n",
       "   MedianStudentsPerTeacher  numOfBathrooms  numOfBedrooms priceRange  \n",
       "0                        17             4.0              4    650000+  "
      ]
     },
     "execution_count": 11,
     "metadata": {},
     "output_type": "execute_result"
    }
   ],
   "source": [
    "df.drop(columns=[\"uid\", \"description\"], axis=1, inplace=True)\n",
    "df.head(1)"
   ]
  },
  {
   "cell_type": "code",
   "execution_count": 12,
   "id": "a4b88013",
   "metadata": {},
   "outputs": [
    {
     "data": {
      "text/plain": [
       "city                          False\n",
       "homeType                      False\n",
       "latitude                      False\n",
       "longitude                     False\n",
       "garageSpaces                  False\n",
       "hasSpa                        False\n",
       "yearBuilt                     False\n",
       "numOfPatioAndPorchFeatures    False\n",
       "lotSizeSqFt                   False\n",
       "avgSchoolRating               False\n",
       "MedianStudentsPerTeacher      False\n",
       "numOfBathrooms                False\n",
       "numOfBedrooms                 False\n",
       "priceRange                    False\n",
       "dtype: bool"
      ]
     },
     "execution_count": 12,
     "metadata": {},
     "output_type": "execute_result"
    }
   ],
   "source": [
    "df.isnull().any()"
   ]
  },
  {
   "cell_type": "code",
   "execution_count": 13,
   "id": "df635364",
   "metadata": {},
   "outputs": [
    {
     "data": {
      "text/plain": [
       "['city', 'homeType']"
      ]
     },
     "execution_count": 13,
     "metadata": {},
     "output_type": "execute_result"
    }
   ],
   "source": [
    "cat_vars = [var for var in df.columns if df[var].dtype == 'O' and var != 'priceRange']\n",
    "cat_vars"
   ]
  },
  {
   "cell_type": "code",
   "execution_count": 14,
   "id": "ec368870",
   "metadata": {},
   "outputs": [
    {
     "data": {
      "text/plain": [
       "['latitude',\n",
       " 'longitude',\n",
       " 'garageSpaces',\n",
       " 'hasSpa',\n",
       " 'yearBuilt',\n",
       " 'numOfPatioAndPorchFeatures',\n",
       " 'lotSizeSqFt',\n",
       " 'avgSchoolRating',\n",
       " 'MedianStudentsPerTeacher',\n",
       " 'numOfBathrooms',\n",
       " 'numOfBedrooms']"
      ]
     },
     "execution_count": 14,
     "metadata": {},
     "output_type": "execute_result"
    }
   ],
   "source": [
    "num_vars = [var for var in df.columns if var not in cat_vars and var != 'priceRange']\n",
    "num_vars"
   ]
  },
  {
   "cell_type": "code",
   "execution_count": 15,
   "id": "0daf0d81",
   "metadata": {},
   "outputs": [],
   "source": [
    "df['hasSpa'] = df['hasSpa'].replace({True: 1, False: 0})"
   ]
  },
  {
   "cell_type": "code",
   "execution_count": 16,
   "id": "0bf64da9",
   "metadata": {},
   "outputs": [],
   "source": [
    "mapping = {'0-250000': 0, '250000-350000': 1, '350000-450000': 2, '450000-650000': 3, '250000-350000': 4, '650000+': 5}\n",
    "\n",
    "df['priceRange'] = df['priceRange'].map(mapping)"
   ]
  },
  {
   "cell_type": "code",
   "execution_count": 17,
   "id": "b42a69b0",
   "metadata": {},
   "outputs": [
    {
     "data": {
      "text/plain": [
       "((7000, 13), (3000, 13))"
      ]
     },
     "execution_count": 17,
     "metadata": {},
     "output_type": "execute_result"
    }
   ],
   "source": [
    "# Let's separate into train and test set\n",
    "# Remember to set the seed (random_state for this sklearn function)\n",
    "X_train, X_test, y_train, y_test = train_test_split(\n",
    "    df.drop(['priceRange'], axis=1), # predictive variables\n",
    "    df['priceRange'], # target\n",
    "    test_size=0.3, # portion of dataset to allocate to test set\n",
    "    random_state=0, # we are setting the seed here\n",
    ")\n",
    "\n",
    "X_train.shape, X_test.shape"
   ]
  },
  {
   "cell_type": "code",
   "execution_count": 18,
   "id": "3e7af78b",
   "metadata": {},
   "outputs": [
    {
     "data": {
      "text/plain": [
       "OrdinalEncoder(cols=['city', 'homeType'],\n",
       "               mapping=[{'col': 'city', 'data_type': dtype('O'),\n",
       "                         'mapping': austin              1\n",
       "driftwood           2\n",
       "del valle           3\n",
       "pflugerville        4\n",
       "dripping springs    5\n",
       "west lake hills     6\n",
       "manchaca            7\n",
       "NaN                -2\n",
       "dtype: int64},\n",
       "                        {'col': 'homeType', 'data_type': dtype('O'),\n",
       "                         'mapping': Single Family            1\n",
       "Condo                    2\n",
       "Townhouse                3\n",
       "Multiple Occupancy       4\n",
       "Residential              5\n",
       "MultiFamily              6\n",
       "Apartment                7\n",
       "Mobile / Manufactured    8\n",
       "Vacant Land              9\n",
       "NaN                     -2\n",
       "dtype: int64}])"
      ]
     },
     "execution_count": 18,
     "metadata": {},
     "output_type": "execute_result"
    }
   ],
   "source": [
    "ordinal_enc = OrdinalEncoder(\n",
    "    cols=cat_vars,\n",
    ")\n",
    "\n",
    "ordinal_enc.fit(X_train)"
   ]
  },
  {
   "cell_type": "code",
   "execution_count": 19,
   "id": "cb23c1d4",
   "metadata": {},
   "outputs": [
    {
     "data": {
      "text/plain": [
       "[{'col': 'city',\n",
       "  'mapping': austin              1\n",
       "  driftwood           2\n",
       "  del valle           3\n",
       "  pflugerville        4\n",
       "  dripping springs    5\n",
       "  west lake hills     6\n",
       "  manchaca            7\n",
       "  NaN                -2\n",
       "  dtype: int64,\n",
       "  'data_type': dtype('O')},\n",
       " {'col': 'homeType',\n",
       "  'mapping': Single Family            1\n",
       "  Condo                    2\n",
       "  Townhouse                3\n",
       "  Multiple Occupancy       4\n",
       "  Residential              5\n",
       "  MultiFamily              6\n",
       "  Apartment                7\n",
       "  Mobile / Manufactured    8\n",
       "  Vacant Land              9\n",
       "  NaN                     -2\n",
       "  dtype: int64,\n",
       "  'data_type': dtype('O')}]"
      ]
     },
     "execution_count": 19,
     "metadata": {},
     "output_type": "execute_result"
    }
   ],
   "source": [
    "# in the mapping we can observe the numbers\n",
    "# assigned to each category for all the indicated variables\n",
    "ordinal_enc.mapping"
   ]
  },
  {
   "cell_type": "code",
   "execution_count": 20,
   "id": "29331d59",
   "metadata": {},
   "outputs": [
    {
     "data": {
      "text/plain": [
       "['../models/ordinal_encoder_model.joblib']"
      ]
     },
     "execution_count": 20,
     "metadata": {},
     "output_type": "execute_result"
    }
   ],
   "source": [
    "# save the model\n",
    "path_ordinal_encoder_model = '../models/ordinal_encoder_model.joblib'\n",
    "joblib.dump(ordinal_enc, path_ordinal_encoder_model) "
   ]
  },
  {
   "cell_type": "code",
   "execution_count": 21,
   "id": "69ff9b73",
   "metadata": {},
   "outputs": [],
   "source": [
    "X_train = ordinal_enc.transform(X_train)\n",
    "X_test = ordinal_enc.transform(X_test)"
   ]
  },
  {
   "cell_type": "code",
   "execution_count": 22,
   "id": "e53a73f9",
   "metadata": {},
   "outputs": [
    {
     "data": {
      "text/plain": [
       "MinMaxScaler()"
      ]
     },
     "execution_count": 22,
     "metadata": {},
     "output_type": "execute_result"
    }
   ],
   "source": [
    "# Specify the columns you want to scale\n",
    "columns_to_scale = ['latitude', 'longitude',\n",
    "       'garageSpaces', 'yearBuilt', 'numOfPatioAndPorchFeatures',\n",
    "       'lotSizeSqFt', 'avgSchoolRating', 'MedianStudentsPerTeacher',\n",
    "       'numOfBathrooms', 'numOfBedrooms']\n",
    "\n",
    "# Initialize the MinMaxScaler\n",
    "scaler = MinMaxScaler()\n",
    "\n",
    "# Fit the scaler to the selected columns\n",
    "scaler.fit(X_train[num_vars])\n",
    "\n"
   ]
  },
  {
   "cell_type": "code",
   "execution_count": 23,
   "id": "f71771b5",
   "metadata": {},
   "outputs": [],
   "source": [
    "# Transform the selected columns\n",
    "X_train[num_vars] = scaler.transform(X_train[num_vars])\n",
    "X_test[num_vars] = scaler.transform(X_test[num_vars])"
   ]
  },
  {
   "cell_type": "code",
   "execution_count": 24,
   "id": "b06f4bed",
   "metadata": {},
   "outputs": [],
   "source": [
    "clf = tree.DecisionTreeClassifier(random_state=0)\n",
    "clf = clf.fit(X_train, y_train)"
   ]
  },
  {
   "cell_type": "code",
   "execution_count": 25,
   "id": "0f472e95",
   "metadata": {},
   "outputs": [
    {
     "data": {
      "text/plain": [
       "['../models/clf_model.joblib']"
      ]
     },
     "execution_count": 25,
     "metadata": {},
     "output_type": "execute_result"
    }
   ],
   "source": [
    "path_clf_model = '../models/clf_model.joblib'\n",
    "joblib.dump(clf, path_clf_model) "
   ]
  },
  {
   "cell_type": "markdown",
   "id": "59dd90eb",
   "metadata": {},
   "source": [
    "# Metrics"
   ]
  },
  {
   "cell_type": "code",
   "execution_count": 26,
   "id": "136d3cc7",
   "metadata": {},
   "outputs": [
    {
     "data": {
      "text/plain": [
       "<sklearn.metrics._plot.confusion_matrix.ConfusionMatrixDisplay at 0x1fc89221490>"
      ]
     },
     "execution_count": 26,
     "metadata": {},
     "output_type": "execute_result"
    },
    {
     "data": {
      "image/png": "[encoded data removed]",
      "text/plain": [
       "<Figure size 640x480 with 2 Axes>"
      ]
     },
     "metadata": {},
     "output_type": "display_data"
    }
   ],
   "source": [
    "y_pred = clf.predict(X_test)\n",
    "cm = confusion_matrix(y_test, y_pred, labels=clf.classes_)\n",
    "disp = ConfusionMatrixDisplay(confusion_matrix=cm,\n",
    "                               display_labels=clf.classes_)\n",
    "disp.plot()"
   ]
  },
  {
   "cell_type": "code",
   "execution_count": 27,
   "id": "b54b5ffe",
   "metadata": {},
   "outputs": [
    {
     "name": "stdout",
     "output_type": "stream",
     "text": [
      "Accuracy: 0.52\n",
      "Precision: 0.52\n",
      "Recall: 0.52\n",
      "F1 Score: 0.52\n",
      "\n",
      "Confusion Matrix:\n",
      " [[189  48  18 112   3]\n",
      " [ 37 300 154 183  25]\n",
      " [ 21 160 346  50 110]\n",
      " [135 169  48 362  16]\n",
      " [ 10  21 122   6 355]]\n",
      "\n",
      "Classification Report:\n",
      "               precision    recall  f1-score   support\n",
      "\n",
      "           0       0.48      0.51      0.50       370\n",
      "           2       0.43      0.43      0.43       699\n",
      "           3       0.50      0.50      0.50       687\n",
      "           4       0.51      0.50      0.50       730\n",
      "           5       0.70      0.69      0.69       514\n",
      "\n",
      "    accuracy                           0.52      3000\n",
      "   macro avg       0.52      0.53      0.52      3000\n",
      "weighted avg       0.52      0.52      0.52      3000\n",
      "\n"
     ]
    }
   ],
   "source": [
    "# Calculate classification metrics\n",
    "accuracy = accuracy_score(y_test, y_pred)\n",
    "precision = precision_score(y_test, y_pred, average='weighted')\n",
    "recall = recall_score(y_test, y_pred, average='weighted')\n",
    "f1 = f1_score(y_test, y_pred, average='weighted')\n",
    "conf_matrix = confusion_matrix(y_test, y_pred)\n",
    "classification_rep = classification_report(y_test, y_pred)\n",
    "\n",
    "# Print the metrics\n",
    "print(f'Accuracy: {accuracy:.2f}')\n",
    "print(f'Precision: {precision:.2f}')\n",
    "print(f'Recall: {recall:.2f}')\n",
    "print(f'F1 Score: {f1:.2f}')\n",
    "print('\\nConfusion Matrix:\\n', conf_matrix)\n",
    "print('\\nClassification Report:\\n', classification_rep)\n"
   ]
  },
  {
   "cell_type": "code",
   "execution_count": 28,
   "id": "1d53fd1a",
   "metadata": {},
   "outputs": [
    {
     "name": "stdout",
     "output_type": "stream",
     "text": [
      "                       Feature  Importance\n",
      "0                     latitude    0.223526\n",
      "1                    longitude    0.177257\n",
      "2                  lotSizeSqFt    0.151508\n",
      "3                    yearBuilt    0.108064\n",
      "4              avgSchoolRating    0.099103\n",
      "5               numOfBathrooms    0.082312\n",
      "6   numOfPatioAndPorchFeatures    0.041118\n",
      "7                 garageSpaces    0.040176\n",
      "8                numOfBedrooms    0.037033\n",
      "9     MedianStudentsPerTeacher    0.020975\n",
      "10                      hasSpa    0.009823\n",
      "11                    homeType    0.008540\n",
      "12                        city    0.000566\n"
     ]
    }
   ],
   "source": [
    "# Feature importance\n",
    "feature_importance = clf.feature_importances_\n",
    "\n",
    "feature_importance_df = pd.DataFrame({'Feature': X_train.columns, 'Importance': feature_importance})\n",
    "\n",
    "print(feature_importance_df.sort_values(by=['Importance'], ascending=False, ignore_index=True))\n"
   ]
  },
  {
   "cell_type": "markdown",
   "id": "05848e1a",
   "metadata": {},
   "source": [
    "# Score New Data"
   ]
  },
  {
   "cell_type": "code",
   "execution_count": 29,
   "id": "f438ec2e",
   "metadata": {},
   "outputs": [],
   "source": [
    "from pipeline import pipeline"
   ]
  },
  {
   "cell_type": "code",
   "execution_count": 30,
   "id": "8dcb997c",
   "metadata": {},
   "outputs": [],
   "source": [
    "path = \"../df/train.csv\"\n",
    "df = pd.read_csv(path)"
   ]
  },
  {
   "cell_type": "code",
   "execution_count": 31,
   "id": "55aa9302",
   "metadata": {},
   "outputs": [
    {
     "data": {
      "text/plain": [
       "Index(['uid', 'city', 'description', 'homeType', 'latitude', 'longitude',\n",
       "       'garageSpaces', 'hasSpa', 'yearBuilt', 'numOfPatioAndPorchFeatures',\n",
       "       'lotSizeSqFt', 'avgSchoolRating', 'MedianStudentsPerTeacher',\n",
       "       'numOfBathrooms', 'numOfBedrooms', 'priceRange'],\n",
       "      dtype='object')"
      ]
     },
     "execution_count": 31,
     "metadata": {},
     "output_type": "execute_result"
    }
   ],
   "source": [
    "df.columns"
   ]
  },
  {
   "cell_type": "code",
   "execution_count": 32,
   "id": "8fd49bb8",
   "metadata": {},
   "outputs": [
    {
     "data": {
      "text/html": [
       "<div>\n",
       "<style scoped>\n",
       "    .dataframe tbody tr th:only-of-type {\n",
       "        vertical-align: middle;\n",
       "    }\n",
       "\n",
       "    .dataframe tbody tr th {\n",
       "        vertical-align: top;\n",
       "    }\n",
       "\n",
       "    .dataframe thead th {\n",
       "        text-align: right;\n",
       "    }\n",
       "</style>\n",
       "<table border=\"1\" class=\"dataframe\">\n",
       "  <thead>\n",
       "    <tr style=\"text-align: right;\">\n",
       "      <th></th>\n",
       "      <th>uid</th>\n",
       "      <th>city</th>\n",
       "      <th>description</th>\n",
       "      <th>homeType</th>\n",
       "      <th>latitude</th>\n",
       "      <th>longitude</th>\n",
       "      <th>garageSpaces</th>\n",
       "      <th>hasSpa</th>\n",
       "      <th>yearBuilt</th>\n",
       "      <th>numOfPatioAndPorchFeatures</th>\n",
       "      <th>lotSizeSqFt</th>\n",
       "      <th>avgSchoolRating</th>\n",
       "      <th>MedianStudentsPerTeacher</th>\n",
       "      <th>numOfBathrooms</th>\n",
       "      <th>numOfBedrooms</th>\n",
       "      <th>priceRange</th>\n",
       "    </tr>\n",
       "  </thead>\n",
       "  <tbody>\n",
       "    <tr>\n",
       "      <th>0</th>\n",
       "      <td>1748</td>\n",
       "      <td>austin</td>\n",
       "      <td>MULTIPLE OFFERS submit best &amp; final to Agent b...</td>\n",
       "      <td>Single Family</td>\n",
       "      <td>30.380089</td>\n",
       "      <td>-97.800621</td>\n",
       "      <td>0</td>\n",
       "      <td>False</td>\n",
       "      <td>1988</td>\n",
       "      <td>0</td>\n",
       "      <td>102366.0</td>\n",
       "      <td>7.0</td>\n",
       "      <td>17</td>\n",
       "      <td>4.0</td>\n",
       "      <td>4</td>\n",
       "      <td>650000+</td>\n",
       "    </tr>\n",
       "  </tbody>\n",
       "</table>\n",
       "</div>"
      ],
      "text/plain": [
       "    uid    city                                        description  \\\n",
       "0  1748  austin  MULTIPLE OFFERS submit best & final to Agent b...   \n",
       "\n",
       "        homeType   latitude  longitude garageSpaces hasSpa yearBuilt  \\\n",
       "0  Single Family  30.380089 -97.800621            0  False      1988   \n",
       "\n",
       "  numOfPatioAndPorchFeatures lotSizeSqFt avgSchoolRating  \\\n",
       "0                          0    102366.0             7.0   \n",
       "\n",
       "  MedianStudentsPerTeacher numOfBathrooms numOfBedrooms priceRange  \n",
       "0                       17            4.0             4    650000+  "
      ]
     },
     "execution_count": 32,
     "metadata": {},
     "output_type": "execute_result"
    }
   ],
   "source": [
    "new_input = pd.DataFrame(df.iloc[0]).transpose()\n",
    "new_input"
   ]
  },
  {
   "cell_type": "code",
   "execution_count": 33,
   "id": "c2a534a0",
   "metadata": {},
   "outputs": [
    {
     "data": {
      "text/plain": [
       "3"
      ]
     },
     "execution_count": 33,
     "metadata": {},
     "output_type": "execute_result"
    }
   ],
   "source": [
    "new_result = pipeline(new_input)\n",
    "new_result"
   ]
  },
  {
   "cell_type": "code",
   "execution_count": null,
   "id": "e0a9e033",
   "metadata": {},
   "outputs": [],
   "source": []
  },
  {
   "cell_type": "code",
   "execution_count": null,
   "id": "44d9c3a9",
   "metadata": {},
   "outputs": [],
   "source": []
  }
 ],
 "metadata": {
  "kernelspec": {
   "display_name": "Python 3 (ipykernel)",
   "language": "python",
   "name": "python3"
  },
  "language_info": {
   "codemirror_mode": {
    "name": "ipython",
    "version": 3
   },
   "file_extension": ".py",
   "mimetype": "text/x-python",
   "name": "python",
   "nbconvert_exporter": "python",
   "pygments_lexer": "ipython3",
   "version": "3.9.13"
  }
 },
 "nbformat": 4,
 "nbformat_minor": 5
}
