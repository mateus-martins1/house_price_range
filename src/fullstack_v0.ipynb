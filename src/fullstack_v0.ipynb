{
 "cells": [
  {
   "cell_type": "code",
   "execution_count": null,
   "id": "613c707a",
   "metadata": {},
   "outputs": [],
   "source": [
    "!pip install feature_engine -q"
   ]
  },
  {
   "cell_type": "code",
   "execution_count": 35,
   "id": "5ecf7b44",
   "metadata": {},
   "outputs": [],
   "source": [
    "!pip install category_encoders -q"
   ]
  },
  {
   "cell_type": "markdown",
   "id": "59f6d915",
   "metadata": {},
   "source": [
    "# imports"
   ]
  },
  {
   "cell_type": "code",
   "execution_count": 140,
   "id": "b707ae10",
   "metadata": {},
   "outputs": [],
   "source": [
    "import pandas as pd\n",
    "import matplotlib.pyplot as plt\n",
    "\n",
    "# to divide train and test set\n",
    "from sklearn.model_selection import train_test_split\n",
    "#from feature_engine.encoding import OrdinalEncoder\n",
    "#from sklearn.preprocessing import OrdinalEncoder\n",
    "#from sklearn.compose import ColumnTransformer\n",
    "from category_encoders.ordinal import OrdinalEncoder\n",
    "from sklearn import tree\n",
    "from sklearn.metrics import confusion_matrix, ConfusionMatrixDisplay\n",
    "from sklearn.metrics import (\n",
    "    accuracy_score, \n",
    "    precision_score, \n",
    "    recall_score, \n",
    "    f1_score, \n",
    "    confusion_matrix, \n",
    "    classification_report\n",
    ")\n",
    "import joblib"
   ]
  },
  {
   "cell_type": "code",
   "execution_count": 141,
   "id": "77dd5aea",
   "metadata": {},
   "outputs": [],
   "source": [
    "# to display all the columns of the dataframe in the notebook\n",
    "pd.pandas.set_option('display.max_columns', None)"
   ]
  },
  {
   "cell_type": "markdown",
   "id": "f8a9db4e",
   "metadata": {},
   "source": [
    "# read dataframe"
   ]
  },
  {
   "cell_type": "code",
   "execution_count": 142,
   "id": "5f2d9d89",
   "metadata": {},
   "outputs": [
    {
     "name": "stdout",
     "output_type": "stream",
     "text": [
      "(10000, 16)\n"
     ]
    },
    {
     "data": {
      "text/html": [
       "<div>\n",
       "<style scoped>\n",
       "    .dataframe tbody tr th:only-of-type {\n",
       "        vertical-align: middle;\n",
       "    }\n",
       "\n",
       "    .dataframe tbody tr th {\n",
       "        vertical-align: top;\n",
       "    }\n",
       "\n",
       "    .dataframe thead th {\n",
       "        text-align: right;\n",
       "    }\n",
       "</style>\n",
       "<table border=\"1\" class=\"dataframe\">\n",
       "  <thead>\n",
       "    <tr style=\"text-align: right;\">\n",
       "      <th></th>\n",
       "      <th>uid</th>\n",
       "      <th>city</th>\n",
       "      <th>description</th>\n",
       "      <th>homeType</th>\n",
       "      <th>latitude</th>\n",
       "      <th>longitude</th>\n",
       "      <th>garageSpaces</th>\n",
       "      <th>hasSpa</th>\n",
       "      <th>yearBuilt</th>\n",
       "      <th>numOfPatioAndPorchFeatures</th>\n",
       "      <th>lotSizeSqFt</th>\n",
       "      <th>avgSchoolRating</th>\n",
       "      <th>MedianStudentsPerTeacher</th>\n",
       "      <th>numOfBathrooms</th>\n",
       "      <th>numOfBedrooms</th>\n",
       "      <th>priceRange</th>\n",
       "    </tr>\n",
       "  </thead>\n",
       "  <tbody>\n",
       "    <tr>\n",
       "      <th>0</th>\n",
       "      <td>1748</td>\n",
       "      <td>austin</td>\n",
       "      <td>MULTIPLE OFFERS submit best &amp; final to Agent b...</td>\n",
       "      <td>Single Family</td>\n",
       "      <td>30.380089</td>\n",
       "      <td>-97.800621</td>\n",
       "      <td>0</td>\n",
       "      <td>False</td>\n",
       "      <td>1988</td>\n",
       "      <td>0</td>\n",
       "      <td>102366.0</td>\n",
       "      <td>7.000000</td>\n",
       "      <td>17</td>\n",
       "      <td>4.0</td>\n",
       "      <td>4</td>\n",
       "      <td>650000+</td>\n",
       "    </tr>\n",
       "    <tr>\n",
       "      <th>1</th>\n",
       "      <td>13380</td>\n",
       "      <td>austin</td>\n",
       "      <td>4644 Hoffman Dr, Austin, TX 78749 is a single ...</td>\n",
       "      <td>Single Family</td>\n",
       "      <td>30.199486</td>\n",
       "      <td>-97.859947</td>\n",
       "      <td>0</td>\n",
       "      <td>False</td>\n",
       "      <td>1997</td>\n",
       "      <td>0</td>\n",
       "      <td>6534.0</td>\n",
       "      <td>6.666667</td>\n",
       "      <td>16</td>\n",
       "      <td>3.0</td>\n",
       "      <td>4</td>\n",
       "      <td>350000-450000</td>\n",
       "    </tr>\n",
       "    <tr>\n",
       "      <th>2</th>\n",
       "      <td>4115</td>\n",
       "      <td>austin</td>\n",
       "      <td>6804 Canal St, Austin, TX 78741 is a single fa...</td>\n",
       "      <td>Single Family</td>\n",
       "      <td>30.227398</td>\n",
       "      <td>-97.696083</td>\n",
       "      <td>0</td>\n",
       "      <td>False</td>\n",
       "      <td>1952</td>\n",
       "      <td>0</td>\n",
       "      <td>5619.0</td>\n",
       "      <td>3.333333</td>\n",
       "      <td>11</td>\n",
       "      <td>1.0</td>\n",
       "      <td>2</td>\n",
       "      <td>0-250000</td>\n",
       "    </tr>\n",
       "  </tbody>\n",
       "</table>\n",
       "</div>"
      ],
      "text/plain": [
       "     uid    city                                        description  \\\n",
       "0   1748  austin  MULTIPLE OFFERS submit best & final to Agent b...   \n",
       "1  13380  austin  4644 Hoffman Dr, Austin, TX 78749 is a single ...   \n",
       "2   4115  austin  6804 Canal St, Austin, TX 78741 is a single fa...   \n",
       "\n",
       "        homeType   latitude  longitude  garageSpaces  hasSpa  yearBuilt  \\\n",
       "0  Single Family  30.380089 -97.800621             0   False       1988   \n",
       "1  Single Family  30.199486 -97.859947             0   False       1997   \n",
       "2  Single Family  30.227398 -97.696083             0   False       1952   \n",
       "\n",
       "   numOfPatioAndPorchFeatures  lotSizeSqFt  avgSchoolRating  \\\n",
       "0                           0     102366.0         7.000000   \n",
       "1                           0       6534.0         6.666667   \n",
       "2                           0       5619.0         3.333333   \n",
       "\n",
       "   MedianStudentsPerTeacher  numOfBathrooms  numOfBedrooms     priceRange  \n",
       "0                        17             4.0              4        650000+  \n",
       "1                        16             3.0              4  350000-450000  \n",
       "2                        11             1.0              2       0-250000  "
      ]
     },
     "execution_count": 142,
     "metadata": {},
     "output_type": "execute_result"
    }
   ],
   "source": [
    "path = \"../df/train.csv\"\n",
    "\n",
    "df = pd.read_csv(path)\n",
    "print(df.shape)\n",
    "df.head(3)"
   ]
  },
  {
   "cell_type": "markdown",
   "id": "eb6edd59",
   "metadata": {},
   "source": [
    "# Feature selection and engineering"
   ]
  },
  {
   "cell_type": "code",
   "execution_count": 143,
   "id": "324a32df",
   "metadata": {},
   "outputs": [
    {
     "data": {
      "text/plain": [
       "uid                             int64\n",
       "city                           object\n",
       "description                    object\n",
       "homeType                       object\n",
       "latitude                      float64\n",
       "longitude                     float64\n",
       "garageSpaces                    int64\n",
       "hasSpa                           bool\n",
       "yearBuilt                       int64\n",
       "numOfPatioAndPorchFeatures      int64\n",
       "lotSizeSqFt                   float64\n",
       "avgSchoolRating               float64\n",
       "MedianStudentsPerTeacher        int64\n",
       "numOfBathrooms                float64\n",
       "numOfBedrooms                   int64\n",
       "priceRange                     object\n",
       "dtype: object"
      ]
     },
     "execution_count": 143,
     "metadata": {},
     "output_type": "execute_result"
    }
   ],
   "source": [
    "df.dtypes"
   ]
  },
  {
   "cell_type": "code",
   "execution_count": 144,
   "id": "1830cc7e",
   "metadata": {},
   "outputs": [
    {
     "data": {
      "text/plain": [
       "array(['MULTIPLE OFFERS submit best & final to Agent by Mon 21st - 5pm. Appt with Agent.  RARE PANORAMIC VIEW LOT IN JESTER ESTATES SEE FOR MILES!!  Home sits on Cul-de-sac & backs to a Preserve.  Stunning remodeled Kitchen & Bathrooms. Master suite is a private sanctuary with chic master bath, huge bedroom, walk-in closet & private deck.  Jester has a pool, park, tennis courts & feeds into Anderson High.  This home has been well loved & features 3 living areas, an office, & 3 car garage.',\n",
       "       '4644 Hoffman Dr, Austin, TX 78749 is a single family home that contains 2,059 sq ft and was built in 1997. It contains 4 bedrooms and 3 bathrooms. \\r\\n \\r\\n',\n",
       "       '6804 Canal St, Austin, TX 78741 is a single family home that contains 832 sq ft and was built in 1952. It contains 2 bedrooms and 1 bathroom. \\r\\n \\r\\n',\n",
       "       ...,\n",
       "       '7322 Gaines Mill Ln, Austin, TX 78745 is a single family home that contains 1,779 sq ft and was built in 1981. It contains 3 bedrooms and 2 bathrooms. \\r\\n \\r\\n',\n",
       "       '5213 Doe Valley Ln, Austin, TX 78759 is a single family home that contains 2,018 sq ft and was built in 1979. It contains 3 bedrooms and 3 bathrooms. \\r\\n \\r\\n',\n",
       "       'Beautiful single-story home with open floor plan in great neighborhood. Spacious living room opens to dining area and kitchen with breakfast bar, granite counters, 42 inch cabinets, and tiled backsplash. Wood laminate flooring in main living areas. 9 ft ceilings throughout. Master suite with dual vanity and garden tub. Master planned community with on-site elementary school and lots of amenities. Great location close to major tech employers w/easy access to Hwy 290 and just 15 min from downtown Austin.'],\n",
       "      dtype=object)"
      ]
     },
     "execution_count": 144,
     "metadata": {},
     "output_type": "execute_result"
    }
   ],
   "source": [
    "df['description'].unique()"
   ]
  },
  {
   "cell_type": "code",
   "execution_count": 145,
   "id": "12182bd3",
   "metadata": {},
   "outputs": [
    {
     "data": {
      "text/plain": [
       "array(['austin', 'pflugerville', 'del valle', 'manchaca',\n",
       "       'dripping springs', 'west lake hills', 'driftwood'], dtype=object)"
      ]
     },
     "execution_count": 145,
     "metadata": {},
     "output_type": "execute_result"
    }
   ],
   "source": [
    "df['city'].unique()"
   ]
  },
  {
   "cell_type": "code",
   "execution_count": 146,
   "id": "9d762064",
   "metadata": {},
   "outputs": [
    {
     "data": {
      "text/plain": [
       "array(['Single Family', 'Multiple Occupancy', 'Condo', 'Apartment',\n",
       "       'MultiFamily', 'Townhouse', 'Other', 'Residential',\n",
       "       'Mobile / Manufactured', 'Vacant Land'], dtype=object)"
      ]
     },
     "execution_count": 146,
     "metadata": {},
     "output_type": "execute_result"
    }
   ],
   "source": [
    "df['homeType'].unique()"
   ]
  },
  {
   "cell_type": "code",
   "execution_count": 147,
   "id": "2c409d5e",
   "metadata": {},
   "outputs": [
    {
     "data": {
      "text/plain": [
       "array(['650000+', '350000-450000', '0-250000', '450000-650000',\n",
       "       '250000-350000'], dtype=object)"
      ]
     },
     "execution_count": 147,
     "metadata": {},
     "output_type": "execute_result"
    }
   ],
   "source": [
    "df['priceRange'].unique()"
   ]
  },
  {
   "cell_type": "code",
   "execution_count": 148,
   "id": "f8e4d617",
   "metadata": {},
   "outputs": [
    {
     "data": {
      "text/html": [
       "<div>\n",
       "<style scoped>\n",
       "    .dataframe tbody tr th:only-of-type {\n",
       "        vertical-align: middle;\n",
       "    }\n",
       "\n",
       "    .dataframe tbody tr th {\n",
       "        vertical-align: top;\n",
       "    }\n",
       "\n",
       "    .dataframe thead th {\n",
       "        text-align: right;\n",
       "    }\n",
       "</style>\n",
       "<table border=\"1\" class=\"dataframe\">\n",
       "  <thead>\n",
       "    <tr style=\"text-align: right;\">\n",
       "      <th></th>\n",
       "      <th>city</th>\n",
       "      <th>homeType</th>\n",
       "      <th>latitude</th>\n",
       "      <th>longitude</th>\n",
       "      <th>garageSpaces</th>\n",
       "      <th>hasSpa</th>\n",
       "      <th>yearBuilt</th>\n",
       "      <th>numOfPatioAndPorchFeatures</th>\n",
       "      <th>lotSizeSqFt</th>\n",
       "      <th>avgSchoolRating</th>\n",
       "      <th>MedianStudentsPerTeacher</th>\n",
       "      <th>numOfBathrooms</th>\n",
       "      <th>numOfBedrooms</th>\n",
       "      <th>priceRange</th>\n",
       "    </tr>\n",
       "  </thead>\n",
       "  <tbody>\n",
       "    <tr>\n",
       "      <th>0</th>\n",
       "      <td>austin</td>\n",
       "      <td>Single Family</td>\n",
       "      <td>30.380089</td>\n",
       "      <td>-97.800621</td>\n",
       "      <td>0</td>\n",
       "      <td>False</td>\n",
       "      <td>1988</td>\n",
       "      <td>0</td>\n",
       "      <td>102366.0</td>\n",
       "      <td>7.0</td>\n",
       "      <td>17</td>\n",
       "      <td>4.0</td>\n",
       "      <td>4</td>\n",
       "      <td>650000+</td>\n",
       "    </tr>\n",
       "  </tbody>\n",
       "</table>\n",
       "</div>"
      ],
      "text/plain": [
       "     city       homeType   latitude  longitude  garageSpaces  hasSpa  \\\n",
       "0  austin  Single Family  30.380089 -97.800621             0   False   \n",
       "\n",
       "   yearBuilt  numOfPatioAndPorchFeatures  lotSizeSqFt  avgSchoolRating  \\\n",
       "0       1988                           0     102366.0              7.0   \n",
       "\n",
       "   MedianStudentsPerTeacher  numOfBathrooms  numOfBedrooms priceRange  \n",
       "0                        17             4.0              4    650000+  "
      ]
     },
     "execution_count": 148,
     "metadata": {},
     "output_type": "execute_result"
    }
   ],
   "source": [
    "df.drop(columns=[\"uid\", \"description\"], axis=1, inplace=True)\n",
    "df.head(1)"
   ]
  },
  {
   "cell_type": "code",
   "execution_count": 149,
   "id": "e2776838",
   "metadata": {},
   "outputs": [
    {
     "data": {
      "image/png": "[encoded data removed]",
      "text/plain": [
       "<Figure size 1000x500 with 1 Axes>"
      ]
     },
     "metadata": {},
     "output_type": "display_data"
    }
   ],
   "source": [
    "# Conte as ocorrências de cada categoria\n",
    "count_target = df['priceRange'].value_counts()\n",
    "\n",
    "# Crie o gráfico de barras para a contagem\n",
    "plt.figure(figsize=(10, 5))\n",
    "count_target.plot(kind='bar', color='black')\n",
    "plt.title('Count of Price Range')\n",
    "plt.xlabel('Price Range')\n",
    "plt.ylabel('Count')\n",
    "plt.xticks(rotation=0)  # Rotação dos rótulos no eixo x, se necessário\n",
    "plt.show()"
   ]
  },
  {
   "cell_type": "code",
   "execution_count": 150,
   "id": "599c2529",
   "metadata": {},
   "outputs": [
    {
     "data": {
      "text/plain": [
       "city                          False\n",
       "homeType                      False\n",
       "latitude                      False\n",
       "longitude                     False\n",
       "garageSpaces                  False\n",
       "hasSpa                        False\n",
       "yearBuilt                     False\n",
       "numOfPatioAndPorchFeatures    False\n",
       "lotSizeSqFt                   False\n",
       "avgSchoolRating               False\n",
       "MedianStudentsPerTeacher      False\n",
       "numOfBathrooms                False\n",
       "numOfBedrooms                 False\n",
       "priceRange                    False\n",
       "dtype: bool"
      ]
     },
     "execution_count": 150,
     "metadata": {},
     "output_type": "execute_result"
    }
   ],
   "source": [
    "df.isnull().any()"
   ]
  },
  {
   "cell_type": "code",
   "execution_count": 151,
   "id": "a4f659e0",
   "metadata": {},
   "outputs": [
    {
     "data": {
      "text/plain": [
       "['city', 'homeType']"
      ]
     },
     "execution_count": 151,
     "metadata": {},
     "output_type": "execute_result"
    }
   ],
   "source": [
    "cat_vars = [var for var in df.columns if df[var].dtype == 'O' and var != 'priceRange']\n",
    "cat_vars"
   ]
  },
  {
   "cell_type": "code",
   "execution_count": 152,
   "id": "0a45ebab",
   "metadata": {},
   "outputs": [
    {
     "data": {
      "text/plain": [
       "['latitude',\n",
       " 'longitude',\n",
       " 'garageSpaces',\n",
       " 'hasSpa',\n",
       " 'yearBuilt',\n",
       " 'numOfPatioAndPorchFeatures',\n",
       " 'lotSizeSqFt',\n",
       " 'avgSchoolRating',\n",
       " 'MedianStudentsPerTeacher',\n",
       " 'numOfBathrooms',\n",
       " 'numOfBedrooms']"
      ]
     },
     "execution_count": 152,
     "metadata": {},
     "output_type": "execute_result"
    }
   ],
   "source": [
    "num_vars = [var for var in df.columns if var not in cat_vars and var != 'priceRange']\n",
    "num_vars"
   ]
  },
  {
   "cell_type": "code",
   "execution_count": 153,
   "id": "4703369a",
   "metadata": {},
   "outputs": [
    {
     "data": {
      "text/plain": [
       "[]"
      ]
     },
     "execution_count": 153,
     "metadata": {},
     "output_type": "execute_result"
    }
   ],
   "source": [
    "# make a list of the variables that contain missing values\n",
    "vars_with_na = [var for var in df.columns if df[var].isnull().sum() > 0]#isnull() true or false\n",
    "vars_with_na"
   ]
  },
  {
   "cell_type": "code",
   "execution_count": 155,
   "id": "7aeef3a0",
   "metadata": {},
   "outputs": [
    {
     "data": {
      "text/html": [
       "<div>\n",
       "<style scoped>\n",
       "    .dataframe tbody tr th:only-of-type {\n",
       "        vertical-align: middle;\n",
       "    }\n",
       "\n",
       "    .dataframe tbody tr th {\n",
       "        vertical-align: top;\n",
       "    }\n",
       "\n",
       "    .dataframe thead th {\n",
       "        text-align: right;\n",
       "    }\n",
       "</style>\n",
       "<table border=\"1\" class=\"dataframe\">\n",
       "  <thead>\n",
       "    <tr style=\"text-align: right;\">\n",
       "      <th></th>\n",
       "      <th>city</th>\n",
       "      <th>homeType</th>\n",
       "      <th>latitude</th>\n",
       "      <th>longitude</th>\n",
       "      <th>garageSpaces</th>\n",
       "      <th>hasSpa</th>\n",
       "      <th>yearBuilt</th>\n",
       "      <th>numOfPatioAndPorchFeatures</th>\n",
       "      <th>lotSizeSqFt</th>\n",
       "      <th>avgSchoolRating</th>\n",
       "      <th>MedianStudentsPerTeacher</th>\n",
       "      <th>numOfBathrooms</th>\n",
       "      <th>numOfBedrooms</th>\n",
       "      <th>priceRange</th>\n",
       "    </tr>\n",
       "  </thead>\n",
       "  <tbody>\n",
       "    <tr>\n",
       "      <th>0</th>\n",
       "      <td>austin</td>\n",
       "      <td>Single Family</td>\n",
       "      <td>30.380089</td>\n",
       "      <td>-97.800621</td>\n",
       "      <td>0</td>\n",
       "      <td>0</td>\n",
       "      <td>1988</td>\n",
       "      <td>0</td>\n",
       "      <td>102366.0</td>\n",
       "      <td>7.0</td>\n",
       "      <td>17</td>\n",
       "      <td>4.0</td>\n",
       "      <td>4</td>\n",
       "      <td>650000+</td>\n",
       "    </tr>\n",
       "  </tbody>\n",
       "</table>\n",
       "</div>"
      ],
      "text/plain": [
       "     city       homeType   latitude  longitude  garageSpaces  hasSpa  \\\n",
       "0  austin  Single Family  30.380089 -97.800621             0       0   \n",
       "\n",
       "   yearBuilt  numOfPatioAndPorchFeatures  lotSizeSqFt  avgSchoolRating  \\\n",
       "0       1988                           0     102366.0              7.0   \n",
       "\n",
       "   MedianStudentsPerTeacher  numOfBathrooms  numOfBedrooms priceRange  \n",
       "0                        17             4.0              4    650000+  "
      ]
     },
     "execution_count": 155,
     "metadata": {},
     "output_type": "execute_result"
    }
   ],
   "source": [
    "df['hasSpa'] = df['hasSpa'].replace({True: 1, False: 0})\n",
    "df.head(1)"
   ]
  },
  {
   "cell_type": "code",
   "execution_count": null,
   "id": "818d582e",
   "metadata": {},
   "outputs": [],
   "source": []
  },
  {
   "cell_type": "code",
   "execution_count": 156,
   "id": "2e2bd5fb",
   "metadata": {},
   "outputs": [],
   "source": [
    "# Defina um dicionário de mapeamento de categorias para números\n",
    "mapping = {'0-250000': 0, '250000-350000': 1, '350000-450000': 2, '450000-650000': 3, '250000-350000': 4, '650000+': 5}\n",
    "\n",
    "# Use a função map para remapear a coluna 'Categoria' para valores numéricos\n",
    "df['priceRange'] = df['priceRange'].map(mapping)"
   ]
  },
  {
   "cell_type": "code",
   "execution_count": 157,
   "id": "75a5476c",
   "metadata": {},
   "outputs": [
    {
     "data": {
      "text/plain": [
       "((7000, 13), (3000, 13))"
      ]
     },
     "execution_count": 157,
     "metadata": {},
     "output_type": "execute_result"
    }
   ],
   "source": [
    "# Let's separate into train and test set\n",
    "# Remember to set the seed (random_state for this sklearn function)\n",
    "\n",
    "X_train, X_test, y_train, y_test = train_test_split(\n",
    "    df.drop(['priceRange'], axis=1), # predictive variables\n",
    "    df['priceRange'], # target\n",
    "    test_size=0.3, # portion of dataset to allocate to test set\n",
    "    random_state=0, # we are setting the seed here\n",
    ")\n",
    "\n",
    "X_train.shape, X_test.shape"
   ]
  },
  {
   "cell_type": "code",
   "execution_count": 158,
   "id": "43b244b1",
   "metadata": {},
   "outputs": [],
   "source": [
    "# set up the encoder\n",
    "#cat_encoder = OrdinalEncoder(encoding_method='ordered', variables=cat_vars)\n",
    "\n",
    "# create the mappings\n",
    "#cat_encoder.fit(X_train, y_train)\n",
    "\n",
    "# mappings are stored and class can be saved\n",
    "#cat_encoder.encoder_dict_"
   ]
  },
  {
   "cell_type": "code",
   "execution_count": 159,
   "id": "a5312aaf",
   "metadata": {},
   "outputs": [
    {
     "data": {
      "text/html": [
       "<style>#sk-container-id-3 {color: black;background-color: white;}#sk-container-id-3 pre{padding: 0;}#sk-container-id-3 div.sk-toggleable {background-color: white;}#sk-container-id-3 label.sk-toggleable__label {cursor: pointer;display: block;width: 100%;margin-bottom: 0;padding: 0.3em;box-sizing: border-box;text-align: center;}#sk-container-id-3 label.sk-toggleable__label-arrow:before {content: \"▸\";float: left;margin-right: 0.25em;color: #696969;}#sk-container-id-3 label.sk-toggleable__label-arrow:hover:before {color: black;}#sk-container-id-3 div.sk-estimator:hover label.sk-toggleable__label-arrow:before {color: black;}#sk-container-id-3 div.sk-toggleable__content {max-height: 0;max-width: 0;overflow: hidden;text-align: left;background-color: #f0f8ff;}#sk-container-id-3 div.sk-toggleable__content pre {margin: 0.2em;color: black;border-radius: 0.25em;background-color: #f0f8ff;}#sk-container-id-3 input.sk-toggleable__control:checked~div.sk-toggleable__content {max-height: 200px;max-width: 100%;overflow: auto;}#sk-container-id-3 input.sk-toggleable__control:checked~label.sk-toggleable__label-arrow:before {content: \"▾\";}#sk-container-id-3 div.sk-estimator input.sk-toggleable__control:checked~label.sk-toggleable__label {background-color: #d4ebff;}#sk-container-id-3 div.sk-label input.sk-toggleable__control:checked~label.sk-toggleable__label {background-color: #d4ebff;}#sk-container-id-3 input.sk-hidden--visually {border: 0;clip: rect(1px 1px 1px 1px);clip: rect(1px, 1px, 1px, 1px);height: 1px;margin: -1px;overflow: hidden;padding: 0;position: absolute;width: 1px;}#sk-container-id-3 div.sk-estimator {font-family: monospace;background-color: #f0f8ff;border: 1px dotted black;border-radius: 0.25em;box-sizing: border-box;margin-bottom: 0.5em;}#sk-container-id-3 div.sk-estimator:hover {background-color: #d4ebff;}#sk-container-id-3 div.sk-parallel-item::after {content: \"\";width: 100%;border-bottom: 1px solid gray;flex-grow: 1;}#sk-container-id-3 div.sk-label:hover label.sk-toggleable__label {background-color: #d4ebff;}#sk-container-id-3 div.sk-serial::before {content: \"\";position: absolute;border-left: 1px solid gray;box-sizing: border-box;top: 0;bottom: 0;left: 50%;z-index: 0;}#sk-container-id-3 div.sk-serial {display: flex;flex-direction: column;align-items: center;background-color: white;padding-right: 0.2em;padding-left: 0.2em;position: relative;}#sk-container-id-3 div.sk-item {position: relative;z-index: 1;}#sk-container-id-3 div.sk-parallel {display: flex;align-items: stretch;justify-content: center;background-color: white;position: relative;}#sk-container-id-3 div.sk-item::before, #sk-container-id-3 div.sk-parallel-item::before {content: \"\";position: absolute;border-left: 1px solid gray;box-sizing: border-box;top: 0;bottom: 0;left: 50%;z-index: -1;}#sk-container-id-3 div.sk-parallel-item {display: flex;flex-direction: column;z-index: 1;position: relative;background-color: white;}#sk-container-id-3 div.sk-parallel-item:first-child::after {align-self: flex-end;width: 50%;}#sk-container-id-3 div.sk-parallel-item:last-child::after {align-self: flex-start;width: 50%;}#sk-container-id-3 div.sk-parallel-item:only-child::after {width: 0;}#sk-container-id-3 div.sk-dashed-wrapped {border: 1px dashed gray;margin: 0 0.4em 0.5em 0.4em;box-sizing: border-box;padding-bottom: 0.4em;background-color: white;}#sk-container-id-3 div.sk-label label {font-family: monospace;font-weight: bold;display: inline-block;line-height: 1.2em;}#sk-container-id-3 div.sk-label-container {text-align: center;}#sk-container-id-3 div.sk-container {/* jupyter's `normalize.less` sets `[hidden] { display: none; }` but bootstrap.min.css set `[hidden] { display: none !important; }` so we also need the `!important` here to be able to override the default hidden behavior on the sphinx rendered scikit-learn.org. See: https://github.com/scikit-learn/scikit-learn/issues/21755 */display: inline-block !important;position: relative;}#sk-container-id-3 div.sk-text-repr-fallback {display: none;}</style><div id=\"sk-container-id-3\" class=\"sk-top-container\"><div class=\"sk-text-repr-fallback\"><pre>OrdinalEncoder(cols=[&#x27;city&#x27;, &#x27;homeType&#x27;],\n",
       "               mapping=[{&#x27;col&#x27;: &#x27;city&#x27;, &#x27;data_type&#x27;: dtype(&#x27;O&#x27;),\n",
       "                         &#x27;mapping&#x27;: austin              1\n",
       "driftwood           2\n",
       "del valle           3\n",
       "pflugerville        4\n",
       "dripping springs    5\n",
       "west lake hills     6\n",
       "manchaca            7\n",
       "NaN                -2\n",
       "dtype: int64},\n",
       "                        {&#x27;col&#x27;: &#x27;homeType&#x27;, &#x27;data_type&#x27;: dtype(&#x27;O&#x27;),\n",
       "                         &#x27;mapping&#x27;: Single Family            1\n",
       "Condo                    2\n",
       "Townhouse                3\n",
       "Multiple Occupancy       4\n",
       "Residential              5\n",
       "MultiFamily              6\n",
       "Apartment                7\n",
       "Mobile / Manufactured    8\n",
       "Vacant Land              9\n",
       "NaN                     -2\n",
       "dtype: int64}])</pre><b>In a Jupyter environment, please rerun this cell to show the HTML representation or trust the notebook. <br />On GitHub, the HTML representation is unable to render, please try loading this page with nbviewer.org.</b></div><div class=\"sk-container\" hidden><div class=\"sk-item\"><div class=\"sk-estimator sk-toggleable\"><input class=\"sk-toggleable__control sk-hidden--visually\" id=\"sk-estimator-id-3\" type=\"checkbox\" checked><label for=\"sk-estimator-id-3\" class=\"sk-toggleable__label sk-toggleable__label-arrow\">OrdinalEncoder</label><div class=\"sk-toggleable__content\"><pre>OrdinalEncoder(cols=[&#x27;city&#x27;, &#x27;homeType&#x27;],\n",
       "               mapping=[{&#x27;col&#x27;: &#x27;city&#x27;, &#x27;data_type&#x27;: dtype(&#x27;O&#x27;),\n",
       "                         &#x27;mapping&#x27;: austin              1\n",
       "driftwood           2\n",
       "del valle           3\n",
       "pflugerville        4\n",
       "dripping springs    5\n",
       "west lake hills     6\n",
       "manchaca            7\n",
       "NaN                -2\n",
       "dtype: int64},\n",
       "                        {&#x27;col&#x27;: &#x27;homeType&#x27;, &#x27;data_type&#x27;: dtype(&#x27;O&#x27;),\n",
       "                         &#x27;mapping&#x27;: Single Family            1\n",
       "Condo                    2\n",
       "Townhouse                3\n",
       "Multiple Occupancy       4\n",
       "Residential              5\n",
       "MultiFamily              6\n",
       "Apartment                7\n",
       "Mobile / Manufactured    8\n",
       "Vacant Land              9\n",
       "NaN                     -2\n",
       "dtype: int64}])</pre></div></div></div></div></div>"
      ],
      "text/plain": [
       "OrdinalEncoder(cols=['city', 'homeType'],\n",
       "               mapping=[{'col': 'city', 'data_type': dtype('O'),\n",
       "                         'mapping': austin              1\n",
       "driftwood           2\n",
       "del valle           3\n",
       "pflugerville        4\n",
       "dripping springs    5\n",
       "west lake hills     6\n",
       "manchaca            7\n",
       "NaN                -2\n",
       "dtype: int64},\n",
       "                        {'col': 'homeType', 'data_type': dtype('O'),\n",
       "                         'mapping': Single Family            1\n",
       "Condo                    2\n",
       "Townhouse                3\n",
       "Multiple Occupancy       4\n",
       "Residential              5\n",
       "MultiFamily              6\n",
       "Apartment                7\n",
       "Mobile / Manufactured    8\n",
       "Vacant Land              9\n",
       "NaN                     -2\n",
       "dtype: int64}])"
      ]
     },
     "execution_count": 159,
     "metadata": {},
     "output_type": "execute_result"
    }
   ],
   "source": [
    "ordinal_enc = OrdinalEncoder(\n",
    "    cols=cat_vars,\n",
    ")\n",
    "\n",
    "ordinal_enc.fit(X_train)"
   ]
  },
  {
   "cell_type": "code",
   "execution_count": 160,
   "id": "4c199fc7",
   "metadata": {},
   "outputs": [
    {
     "data": {
      "text/plain": [
       "['../models/ordinal_encoder_model.joblib']"
      ]
     },
     "execution_count": 160,
     "metadata": {},
     "output_type": "execute_result"
    }
   ],
   "source": [
    "# we are happy to our model, so we save it to be able\n",
    "# to score new data\n",
    "\n",
    "path_ordinal_encoder_model = '../models/ordinal_encoder_model.joblib'\n",
    "joblib.dump(ordinal_enc, path_ordinal_encoder_model) "
   ]
  },
  {
   "cell_type": "code",
   "execution_count": 161,
   "id": "a1c7a1a2",
   "metadata": {},
   "outputs": [
    {
     "data": {
      "text/plain": [
       "[{'col': 'city',\n",
       "  'mapping': austin              1\n",
       "  driftwood           2\n",
       "  del valle           3\n",
       "  pflugerville        4\n",
       "  dripping springs    5\n",
       "  west lake hills     6\n",
       "  manchaca            7\n",
       "  NaN                -2\n",
       "  dtype: int64,\n",
       "  'data_type': dtype('O')},\n",
       " {'col': 'homeType',\n",
       "  'mapping': Single Family            1\n",
       "  Condo                    2\n",
       "  Townhouse                3\n",
       "  Multiple Occupancy       4\n",
       "  Residential              5\n",
       "  MultiFamily              6\n",
       "  Apartment                7\n",
       "  Mobile / Manufactured    8\n",
       "  Vacant Land              9\n",
       "  NaN                     -2\n",
       "  dtype: int64,\n",
       "  'data_type': dtype('O')}]"
      ]
     },
     "execution_count": 161,
     "metadata": {},
     "output_type": "execute_result"
    }
   ],
   "source": [
    "# in the mapping we can observe the numbers\n",
    "# assigned to each category for all the indicated variables\n",
    "ordinal_enc.mapping"
   ]
  },
  {
   "cell_type": "code",
   "execution_count": 162,
   "id": "8e963034",
   "metadata": {},
   "outputs": [],
   "source": [
    "X_train = ordinal_enc.transform(X_train)\n",
    "X_test = ordinal_enc.transform(X_test)"
   ]
  },
  {
   "cell_type": "code",
   "execution_count": 163,
   "id": "147bcc6c",
   "metadata": {},
   "outputs": [],
   "source": [
    "clf = tree.DecisionTreeClassifier(random_state=0)\n",
    "clf = clf.fit(X_train, y_train)"
   ]
  },
  {
   "cell_type": "code",
   "execution_count": 164,
   "id": "040442ea",
   "metadata": {},
   "outputs": [
    {
     "data": {
      "text/plain": [
       "['../models/clf_model.joblib']"
      ]
     },
     "execution_count": 164,
     "metadata": {},
     "output_type": "execute_result"
    }
   ],
   "source": [
    "path_clf_model = '../models/clf_model.joblib'\n",
    "joblib.dump(clf, path_clf_model) "
   ]
  },
  {
   "cell_type": "markdown",
   "id": "6d3e6edd",
   "metadata": {},
   "source": [
    "# Metrics"
   ]
  },
  {
   "cell_type": "code",
   "execution_count": 165,
   "id": "460f0d20",
   "metadata": {},
   "outputs": [
    {
     "data": {
      "text/plain": [
       "<sklearn.metrics._plot.confusion_matrix.ConfusionMatrixDisplay at 0x192c81b27d0>"
      ]
     },
     "execution_count": 165,
     "metadata": {},
     "output_type": "execute_result"
    },
    {
     "data": {
      "image/png": "[encoded data removed]",
      "text/plain": [
       "<Figure size 640x480 with 2 Axes>"
      ]
     },
     "metadata": {},
     "output_type": "display_data"
    }
   ],
   "source": [
    "y_pred = clf.predict(X_test)\n",
    "cm = confusion_matrix(y_test, y_pred, labels=clf.classes_)\n",
    "disp = ConfusionMatrixDisplay(confusion_matrix=cm,\n",
    "                               display_labels=clf.classes_)\n",
    "disp.plot()"
   ]
  },
  {
   "cell_type": "code",
   "execution_count": 166,
   "id": "e49da15d",
   "metadata": {},
   "outputs": [
    {
     "name": "stdout",
     "output_type": "stream",
     "text": [
      "Accuracy: 0.52\n",
      "Precision: 0.52\n",
      "Recall: 0.52\n",
      "F1 Score: 0.52\n",
      "\n",
      "Confusion Matrix:\n",
      " [[189  50  16 113   2]\n",
      " [ 37 294 144 196  28]\n",
      " [ 19 177 336  45 110]\n",
      " [129 163  44 381  13]\n",
      " [  8  28 119   7 352]]\n",
      "\n",
      "Classification Report:\n",
      "               precision    recall  f1-score   support\n",
      "\n",
      "           0       0.49      0.51      0.50       370\n",
      "           2       0.41      0.42      0.42       699\n",
      "           3       0.51      0.49      0.50       687\n",
      "           4       0.51      0.52      0.52       730\n",
      "           5       0.70      0.68      0.69       514\n",
      "\n",
      "    accuracy                           0.52      3000\n",
      "   macro avg       0.53      0.53      0.53      3000\n",
      "weighted avg       0.52      0.52      0.52      3000\n",
      "\n"
     ]
    }
   ],
   "source": [
    "# Calculate classification metrics\n",
    "accuracy = accuracy_score(y_test, y_pred)\n",
    "precision = precision_score(y_test, y_pred, average='weighted')\n",
    "recall = recall_score(y_test, y_pred, average='weighted')\n",
    "f1 = f1_score(y_test, y_pred, average='weighted')\n",
    "conf_matrix = confusion_matrix(y_test, y_pred)\n",
    "classification_rep = classification_report(y_test, y_pred)\n",
    "\n",
    "# Print the metrics\n",
    "print(f'Accuracy: {accuracy:.2f}')\n",
    "print(f'Precision: {precision:.2f}')\n",
    "print(f'Recall: {recall:.2f}')\n",
    "print(f'F1 Score: {f1:.2f}')\n",
    "print('\\nConfusion Matrix:\\n', conf_matrix)\n",
    "print('\\nClassification Report:\\n', classification_rep)\n"
   ]
  },
  {
   "cell_type": "code",
   "execution_count": 169,
   "id": "f003be7c",
   "metadata": {},
   "outputs": [
    {
     "name": "stdout",
     "output_type": "stream",
     "text": [
      "                       Feature  Importância\n",
      "0                         city     0.000702\n",
      "1                     homeType     0.009035\n",
      "2                     latitude     0.219034\n",
      "3                    longitude     0.173228\n",
      "4                 garageSpaces     0.039104\n",
      "5                       hasSpa     0.010331\n",
      "6                    yearBuilt     0.111732\n",
      "7   numOfPatioAndPorchFeatures     0.040085\n",
      "8                  lotSizeSqFt     0.154764\n",
      "9              avgSchoolRating     0.099574\n",
      "10    MedianStudentsPerTeacher     0.022435\n",
      "11              numOfBathrooms     0.083605\n",
      "12               numOfBedrooms     0.036372\n"
     ]
    }
   ],
   "source": [
    "# Obtenha a importância das features\n",
    "feature_importance = clf.feature_importances_\n",
    "\n",
    "# Crie um DataFrame para exibir as importâncias das features\n",
    "feature_importance_df = pd.DataFrame({'Feature': X_train.columns, 'Importância': feature_importance})\n",
    "\n",
    "# Exiba o DataFrame com as importâncias das features\n",
    "print(feature_importance_df)\n"
   ]
  },
  {
   "cell_type": "markdown",
   "id": "aabe36aa",
   "metadata": {},
   "source": [
    "# Score New Data"
   ]
  },
  {
   "cell_type": "code",
   "execution_count": 135,
   "id": "7c6248da",
   "metadata": {},
   "outputs": [],
   "source": [
    "from pipeline import pipeline"
   ]
  },
  {
   "cell_type": "code",
   "execution_count": 136,
   "id": "b6b6842d",
   "metadata": {},
   "outputs": [],
   "source": [
    "path = \"../df/train.csv\"\n",
    "df = pd.read_csv(path)"
   ]
  },
  {
   "cell_type": "code",
   "execution_count": 137,
   "id": "fa174970",
   "metadata": {},
   "outputs": [
    {
     "data": {
      "text/html": [
       "<div>\n",
       "<style scoped>\n",
       "    .dataframe tbody tr th:only-of-type {\n",
       "        vertical-align: middle;\n",
       "    }\n",
       "\n",
       "    .dataframe tbody tr th {\n",
       "        vertical-align: top;\n",
       "    }\n",
       "\n",
       "    .dataframe thead th {\n",
       "        text-align: right;\n",
       "    }\n",
       "</style>\n",
       "<table border=\"1\" class=\"dataframe\">\n",
       "  <thead>\n",
       "    <tr style=\"text-align: right;\">\n",
       "      <th></th>\n",
       "      <th>uid</th>\n",
       "      <th>city</th>\n",
       "      <th>description</th>\n",
       "      <th>homeType</th>\n",
       "      <th>latitude</th>\n",
       "      <th>longitude</th>\n",
       "      <th>garageSpaces</th>\n",
       "      <th>hasSpa</th>\n",
       "      <th>yearBuilt</th>\n",
       "      <th>numOfPatioAndPorchFeatures</th>\n",
       "      <th>lotSizeSqFt</th>\n",
       "      <th>avgSchoolRating</th>\n",
       "      <th>MedianStudentsPerTeacher</th>\n",
       "      <th>numOfBathrooms</th>\n",
       "      <th>numOfBedrooms</th>\n",
       "      <th>priceRange</th>\n",
       "    </tr>\n",
       "  </thead>\n",
       "  <tbody>\n",
       "    <tr>\n",
       "      <th>0</th>\n",
       "      <td>1748</td>\n",
       "      <td>austin</td>\n",
       "      <td>MULTIPLE OFFERS submit best &amp; final to Agent b...</td>\n",
       "      <td>Single Family</td>\n",
       "      <td>30.380089</td>\n",
       "      <td>-97.800621</td>\n",
       "      <td>0</td>\n",
       "      <td>False</td>\n",
       "      <td>1988</td>\n",
       "      <td>0</td>\n",
       "      <td>102366.0</td>\n",
       "      <td>7.0</td>\n",
       "      <td>17</td>\n",
       "      <td>4.0</td>\n",
       "      <td>4</td>\n",
       "      <td>650000+</td>\n",
       "    </tr>\n",
       "  </tbody>\n",
       "</table>\n",
       "</div>"
      ],
      "text/plain": [
       "    uid    city                                        description  \\\n",
       "0  1748  austin  MULTIPLE OFFERS submit best & final to Agent b...   \n",
       "\n",
       "        homeType   latitude  longitude garageSpaces hasSpa yearBuilt  \\\n",
       "0  Single Family  30.380089 -97.800621            0  False      1988   \n",
       "\n",
       "  numOfPatioAndPorchFeatures lotSizeSqFt avgSchoolRating  \\\n",
       "0                          0    102366.0             7.0   \n",
       "\n",
       "  MedianStudentsPerTeacher numOfBathrooms numOfBedrooms priceRange  \n",
       "0                       17            4.0             4    650000+  "
      ]
     },
     "execution_count": 137,
     "metadata": {},
     "output_type": "execute_result"
    }
   ],
   "source": [
    "new_input = pd.DataFrame(df.iloc[0]).transpose()\n",
    "new_input"
   ]
  },
  {
   "cell_type": "code",
   "execution_count": 138,
   "id": "b3f671d3",
   "metadata": {},
   "outputs": [
    {
     "data": {
      "text/plain": [
       "5"
      ]
     },
     "execution_count": 138,
     "metadata": {},
     "output_type": "execute_result"
    }
   ],
   "source": [
    "new_result = pipeline(new_input)\n",
    "new_result[0]"
   ]
  },
  {
   "cell_type": "code",
   "execution_count": null,
   "id": "8bb5fbd5",
   "metadata": {},
   "outputs": [],
   "source": []
  },
  {
   "cell_type": "code",
   "execution_count": 120,
   "id": "dfe8d8aa",
   "metadata": {},
   "outputs": [],
   "source": [
    "#new_input.drop(columns=[\"uid\", \"description\", \"priceRange\"], axis=1, inplace=True)"
   ]
  },
  {
   "cell_type": "code",
   "execution_count": 121,
   "id": "df01f818",
   "metadata": {},
   "outputs": [],
   "source": [
    "#ordinal_encoder_model = joblib.load(path_ordinal_encoder_model)\n",
    "#clf_model = joblib.load(path_clf_model)"
   ]
  },
  {
   "cell_type": "code",
   "execution_count": 124,
   "id": "3782fc68",
   "metadata": {},
   "outputs": [
    {
     "data": {
      "text/plain": [
       "array([5], dtype=int64)"
      ]
     },
     "execution_count": 124,
     "metadata": {},
     "output_type": "execute_result"
    }
   ],
   "source": [
    "#new_input = ordinal_encoder.transform(new_input)\n",
    "#new_pred = clf_model.predict(new_input)\n",
    "#new_pred"
   ]
  },
  {
   "cell_type": "code",
   "execution_count": null,
   "id": "09ef9bd0",
   "metadata": {},
   "outputs": [],
   "source": []
  },
  {
   "cell_type": "code",
   "execution_count": null,
   "id": "594dd791",
   "metadata": {},
   "outputs": [],
   "source": []
  },
  {
   "cell_type": "code",
   "execution_count": null,
   "id": "5827495e",
   "metadata": {},
   "outputs": [],
   "source": []
  },
  {
   "cell_type": "code",
   "execution_count": null,
   "id": "3ee3e98c",
   "metadata": {},
   "outputs": [],
   "source": []
  },
  {
   "cell_type": "code",
   "execution_count": null,
   "id": "b647842e",
   "metadata": {},
   "outputs": [],
   "source": [
    "path_ordinal_encoder = '../models/ordinal_encoder.joblib'\n",
    "joblib.dump(ordinal_enc, path_ordinal_encoder) "
   ]
  },
  {
   "cell_type": "code",
   "execution_count": null,
   "id": "6f85fdad",
   "metadata": {},
   "outputs": [],
   "source": [
    "path_clf = '../models/clf_model.joblib'\n",
    "joblib.dump(clf, path_clf) "
   ]
  },
  {
   "cell_type": "code",
   "execution_count": null,
   "id": "8fb20ecf",
   "metadata": {},
   "outputs": [],
   "source": []
  },
  {
   "cell_type": "code",
   "execution_count": null,
   "id": "c054bdab",
   "metadata": {},
   "outputs": [],
   "source": []
  },
  {
   "cell_type": "code",
   "execution_count": null,
   "id": "65e91ac5",
   "metadata": {},
   "outputs": [],
   "source": []
  },
  {
   "cell_type": "code",
   "execution_count": null,
   "id": "85fd8e72",
   "metadata": {},
   "outputs": [],
   "source": []
  },
  {
   "cell_type": "code",
   "execution_count": 57,
   "id": "760d45a0",
   "metadata": {},
   "outputs": [
    {
     "data": {
      "text/html": [
       "<div>\n",
       "<style scoped>\n",
       "    .dataframe tbody tr th:only-of-type {\n",
       "        vertical-align: middle;\n",
       "    }\n",
       "\n",
       "    .dataframe tbody tr th {\n",
       "        vertical-align: top;\n",
       "    }\n",
       "\n",
       "    .dataframe thead th {\n",
       "        text-align: right;\n",
       "    }\n",
       "</style>\n",
       "<table border=\"1\" class=\"dataframe\">\n",
       "  <thead>\n",
       "    <tr style=\"text-align: right;\">\n",
       "      <th></th>\n",
       "      <th>city</th>\n",
       "      <th>homeType</th>\n",
       "      <th>latitude</th>\n",
       "      <th>longitude</th>\n",
       "      <th>garageSpaces</th>\n",
       "      <th>hasSpa</th>\n",
       "      <th>yearBuilt</th>\n",
       "      <th>numOfPatioAndPorchFeatures</th>\n",
       "      <th>lotSizeSqFt</th>\n",
       "      <th>avgSchoolRating</th>\n",
       "      <th>MedianStudentsPerTeacher</th>\n",
       "      <th>numOfBathrooms</th>\n",
       "      <th>numOfBedrooms</th>\n",
       "    </tr>\n",
       "  </thead>\n",
       "  <tbody>\n",
       "    <tr>\n",
       "      <th>7681</th>\n",
       "      <td>1</td>\n",
       "      <td>1</td>\n",
       "      <td>30.209854</td>\n",
       "      <td>-97.869225</td>\n",
       "      <td>0</td>\n",
       "      <td>1</td>\n",
       "      <td>1997</td>\n",
       "      <td>0</td>\n",
       "      <td>8537.0</td>\n",
       "      <td>8.000000</td>\n",
       "      <td>17</td>\n",
       "      <td>2.0</td>\n",
       "      <td>3</td>\n",
       "    </tr>\n",
       "    <tr>\n",
       "      <th>9031</th>\n",
       "      <td>1</td>\n",
       "      <td>1</td>\n",
       "      <td>30.450420</td>\n",
       "      <td>-97.778938</td>\n",
       "      <td>2</td>\n",
       "      <td>0</td>\n",
       "      <td>1980</td>\n",
       "      <td>1</td>\n",
       "      <td>14374.8</td>\n",
       "      <td>5.333333</td>\n",
       "      <td>12</td>\n",
       "      <td>2.0</td>\n",
       "      <td>3</td>\n",
       "    </tr>\n",
       "    <tr>\n",
       "      <th>3691</th>\n",
       "      <td>1</td>\n",
       "      <td>1</td>\n",
       "      <td>30.424562</td>\n",
       "      <td>-97.680000</td>\n",
       "      <td>0</td>\n",
       "      <td>0</td>\n",
       "      <td>2001</td>\n",
       "      <td>1</td>\n",
       "      <td>6272.0</td>\n",
       "      <td>4.333333</td>\n",
       "      <td>13</td>\n",
       "      <td>2.0</td>\n",
       "      <td>4</td>\n",
       "    </tr>\n",
       "    <tr>\n",
       "      <th>202</th>\n",
       "      <td>1</td>\n",
       "      <td>1</td>\n",
       "      <td>30.263128</td>\n",
       "      <td>-97.627541</td>\n",
       "      <td>2</td>\n",
       "      <td>0</td>\n",
       "      <td>1998</td>\n",
       "      <td>1</td>\n",
       "      <td>12196.8</td>\n",
       "      <td>3.666667</td>\n",
       "      <td>11</td>\n",
       "      <td>2.0</td>\n",
       "      <td>3</td>\n",
       "    </tr>\n",
       "    <tr>\n",
       "      <th>5625</th>\n",
       "      <td>1</td>\n",
       "      <td>1</td>\n",
       "      <td>30.278431</td>\n",
       "      <td>-97.624786</td>\n",
       "      <td>4</td>\n",
       "      <td>0</td>\n",
       "      <td>2014</td>\n",
       "      <td>0</td>\n",
       "      <td>4599.0</td>\n",
       "      <td>3.666667</td>\n",
       "      <td>11</td>\n",
       "      <td>3.0</td>\n",
       "      <td>3</td>\n",
       "    </tr>\n",
       "  </tbody>\n",
       "</table>\n",
       "</div>"
      ],
      "text/plain": [
       "      city  homeType   latitude  longitude  garageSpaces  hasSpa  yearBuilt  \\\n",
       "7681     1         1  30.209854 -97.869225             0       1       1997   \n",
       "9031     1         1  30.450420 -97.778938             2       0       1980   \n",
       "3691     1         1  30.424562 -97.680000             0       0       2001   \n",
       "202      1         1  30.263128 -97.627541             2       0       1998   \n",
       "5625     1         1  30.278431 -97.624786             4       0       2014   \n",
       "\n",
       "      numOfPatioAndPorchFeatures  lotSizeSqFt  avgSchoolRating  \\\n",
       "7681                           0       8537.0         8.000000   \n",
       "9031                           1      14374.8         5.333333   \n",
       "3691                           1       6272.0         4.333333   \n",
       "202                            1      12196.8         3.666667   \n",
       "5625                           0       4599.0         3.666667   \n",
       "\n",
       "      MedianStudentsPerTeacher  numOfBathrooms  numOfBedrooms  \n",
       "7681                        17             2.0              3  \n",
       "9031                        12             2.0              3  \n",
       "3691                        13             2.0              4  \n",
       "202                         11             2.0              3  \n",
       "5625                        11             3.0              3  "
      ]
     },
     "execution_count": 57,
     "metadata": {},
     "output_type": "execute_result"
    }
   ],
   "source": [
    "X_train.head(5)"
   ]
  },
  {
   "cell_type": "code",
   "execution_count": 33,
   "id": "b918f5cd",
   "metadata": {},
   "outputs": [
    {
     "data": {
      "text/plain": [
       "['city', 'homeType']"
      ]
     },
     "execution_count": 33,
     "metadata": {},
     "output_type": "execute_result"
    }
   ],
   "source": [
    "#cat_vars"
   ]
  },
  {
   "cell_type": "code",
   "execution_count": null,
   "id": "6df55a02",
   "metadata": {},
   "outputs": [],
   "source": [
    "# let's set up the encoder\n",
    "\n",
    "#encoder = OrdinalEncoder()\n",
    "\n",
    "# let's set up the column transformer\n",
    "\n",
    "#ct = ColumnTransformer(\n",
    "#    [(\"oe\", encoder, cat_vars)],\n",
    "#    remainder=\"passthrough\",\n",
    "#)\n",
    "\n",
    "#ct.set_output(transform=\"pandas\")\n",
    "\n",
    "# train the encoder\n",
    "\n",
    "#ct.fit(X_train)"
   ]
  },
  {
   "cell_type": "code",
   "execution_count": 32,
   "id": "a9c9521f",
   "metadata": {},
   "outputs": [
    {
     "ename": "ValueError",
     "evalue": "Shape mismatch: if categories is an array, it has to be of shape (n_features,).",
     "output_type": "error",
     "traceback": [
      "\u001b[1;31m---------------------------------------------------------------------------\u001b[0m",
      "\u001b[1;31mValueError\u001b[0m                                Traceback (most recent call last)",
      "Cell \u001b[1;32mIn[32], line 6\u001b[0m\n\u001b[0;32m      3\u001b[0m cat_encoder \u001b[38;5;241m=\u001b[39m OrdinalEncoder(categories\u001b[38;5;241m=\u001b[39m[cat_vars])\n\u001b[0;32m      5\u001b[0m \u001b[38;5;66;03m# create the mappings\u001b[39;00m\n\u001b[1;32m----> 6\u001b[0m \u001b[43mcat_encoder\u001b[49m\u001b[38;5;241;43m.\u001b[39;49m\u001b[43mfit\u001b[49m\u001b[43m(\u001b[49m\u001b[43mX_train\u001b[49m\u001b[43m[\u001b[49m\u001b[43mcat_vars\u001b[49m\u001b[43m]\u001b[49m\u001b[43m)\u001b[49m\n",
      "File \u001b[1;32m~\\anaconda3\\lib\\site-packages\\sklearn\\preprocessing\\_encoders.py:1258\u001b[0m, in \u001b[0;36mOrdinalEncoder.fit\u001b[1;34m(self, X, y)\u001b[0m\n\u001b[0;32m   1251\u001b[0m     \u001b[38;5;28;01mraise\u001b[39;00m \u001b[38;5;167;01mTypeError\u001b[39;00m(\n\u001b[0;32m   1252\u001b[0m         \u001b[38;5;124m\"\u001b[39m\u001b[38;5;124munknown_value should only be set when \u001b[39m\u001b[38;5;124m\"\u001b[39m\n\u001b[0;32m   1253\u001b[0m         \u001b[38;5;124m\"\u001b[39m\u001b[38;5;124mhandle_unknown is \u001b[39m\u001b[38;5;124m'\u001b[39m\u001b[38;5;124muse_encoded_value\u001b[39m\u001b[38;5;124m'\u001b[39m\u001b[38;5;124m, \u001b[39m\u001b[38;5;124m\"\u001b[39m\n\u001b[0;32m   1254\u001b[0m         \u001b[38;5;124mf\u001b[39m\u001b[38;5;124m\"\u001b[39m\u001b[38;5;124mgot \u001b[39m\u001b[38;5;132;01m{\u001b[39;00m\u001b[38;5;28mself\u001b[39m\u001b[38;5;241m.\u001b[39munknown_value\u001b[38;5;132;01m}\u001b[39;00m\u001b[38;5;124m.\u001b[39m\u001b[38;5;124m\"\u001b[39m\n\u001b[0;32m   1255\u001b[0m     )\n\u001b[0;32m   1257\u001b[0m \u001b[38;5;66;03m# `_fit` will only raise an error when `self.handle_unknown=\"error\"`\u001b[39;00m\n\u001b[1;32m-> 1258\u001b[0m \u001b[38;5;28;43mself\u001b[39;49m\u001b[38;5;241;43m.\u001b[39;49m\u001b[43m_fit\u001b[49m\u001b[43m(\u001b[49m\u001b[43mX\u001b[49m\u001b[43m,\u001b[49m\u001b[43m \u001b[49m\u001b[43mhandle_unknown\u001b[49m\u001b[38;5;241;43m=\u001b[39;49m\u001b[38;5;28;43mself\u001b[39;49m\u001b[38;5;241;43m.\u001b[39;49m\u001b[43mhandle_unknown\u001b[49m\u001b[43m,\u001b[49m\u001b[43m \u001b[49m\u001b[43mforce_all_finite\u001b[49m\u001b[38;5;241;43m=\u001b[39;49m\u001b[38;5;124;43m\"\u001b[39;49m\u001b[38;5;124;43mallow-nan\u001b[39;49m\u001b[38;5;124;43m\"\u001b[39;49m\u001b[43m)\u001b[49m\n\u001b[0;32m   1260\u001b[0m \u001b[38;5;28;01mif\u001b[39;00m \u001b[38;5;28mself\u001b[39m\u001b[38;5;241m.\u001b[39mhandle_unknown \u001b[38;5;241m==\u001b[39m \u001b[38;5;124m\"\u001b[39m\u001b[38;5;124muse_encoded_value\u001b[39m\u001b[38;5;124m\"\u001b[39m:\n\u001b[0;32m   1261\u001b[0m     \u001b[38;5;28;01mfor\u001b[39;00m feature_cats \u001b[38;5;129;01min\u001b[39;00m \u001b[38;5;28mself\u001b[39m\u001b[38;5;241m.\u001b[39mcategories_:\n",
      "File \u001b[1;32m~\\anaconda3\\lib\\site-packages\\sklearn\\preprocessing\\_encoders.py:81\u001b[0m, in \u001b[0;36m_BaseEncoder._fit\u001b[1;34m(self, X, handle_unknown, force_all_finite, return_counts)\u001b[0m\n\u001b[0;32m     79\u001b[0m \u001b[38;5;28;01mif\u001b[39;00m \u001b[38;5;28mself\u001b[39m\u001b[38;5;241m.\u001b[39mcategories \u001b[38;5;241m!=\u001b[39m \u001b[38;5;124m\"\u001b[39m\u001b[38;5;124mauto\u001b[39m\u001b[38;5;124m\"\u001b[39m:\n\u001b[0;32m     80\u001b[0m     \u001b[38;5;28;01mif\u001b[39;00m \u001b[38;5;28mlen\u001b[39m(\u001b[38;5;28mself\u001b[39m\u001b[38;5;241m.\u001b[39mcategories) \u001b[38;5;241m!=\u001b[39m n_features:\n\u001b[1;32m---> 81\u001b[0m         \u001b[38;5;28;01mraise\u001b[39;00m \u001b[38;5;167;01mValueError\u001b[39;00m(\n\u001b[0;32m     82\u001b[0m             \u001b[38;5;124m\"\u001b[39m\u001b[38;5;124mShape mismatch: if categories is an array,\u001b[39m\u001b[38;5;124m\"\u001b[39m\n\u001b[0;32m     83\u001b[0m             \u001b[38;5;124m\"\u001b[39m\u001b[38;5;124m it has to be of shape (n_features,).\u001b[39m\u001b[38;5;124m\"\u001b[39m\n\u001b[0;32m     84\u001b[0m         )\n\u001b[0;32m     86\u001b[0m \u001b[38;5;28mself\u001b[39m\u001b[38;5;241m.\u001b[39mcategories_ \u001b[38;5;241m=\u001b[39m []\n\u001b[0;32m     87\u001b[0m category_counts \u001b[38;5;241m=\u001b[39m []\n",
      "\u001b[1;31mValueError\u001b[0m: Shape mismatch: if categories is an array, it has to be of shape (n_features,)."
     ]
    }
   ],
   "source": [
    "# set up the encoder\n",
    "#cat_encoder = OrdinalEncoder(categories=[cat_vars], handle_unknown=\"use_encoded_value\", unknown_value=-1, encoded_missing_value=-1)\n",
    "#cat_encoder = OrdinalEncoder(categories=[cat_vars])\n",
    "\n",
    "# create the mappings\n",
    "#cat_encoder.fit(X_train[cat_vars])\n",
    "\n",
    "# mappings are stored and class can be saved\n",
    "#cat_encoder.encoder_dict_"
   ]
  },
  {
   "cell_type": "code",
   "execution_count": null,
   "id": "72b12105",
   "metadata": {},
   "outputs": [],
   "source": [
    "X_train = cat_encoder.transform(X_train)\n",
    "X_test = cat_encoder.transform(X_test)"
   ]
  },
  {
   "cell_type": "code",
   "execution_count": 26,
   "id": "e7549426",
   "metadata": {},
   "outputs": [
    {
     "name": "stdout",
     "output_type": "stream",
     "text": [
      "        city       homeType   latitude  longitude  garageSpaces  hasSpa  \\\n",
      "0     austin  Single Family  30.380089 -97.800621             0       0   \n",
      "1     austin  Single Family  30.199486 -97.859947             0       0   \n",
      "2     austin  Single Family  30.227398 -97.696083             0       0   \n",
      "3     austin  Single Family  30.205469 -97.792351             4       0   \n",
      "4     austin  Single Family  30.345106 -97.767426             2       0   \n",
      "...      ...            ...        ...        ...           ...     ...   \n",
      "9995  austin  Single Family  30.409927 -97.763390             2       0   \n",
      "9996  austin  Single Family  30.206074 -97.779472             0       0   \n",
      "9997  austin  Single Family  30.198936 -97.810913             0       0   \n",
      "9998  austin  Single Family  30.391880 -97.761292             0       0   \n",
      "9999  austin  Single Family  30.346609 -97.614983             1       0   \n",
      "\n",
      "      yearBuilt  numOfPatioAndPorchFeatures  lotSizeSqFt  avgSchoolRating  \\\n",
      "0          1988                           0     102366.0         7.000000   \n",
      "1          1997                           0       6534.0         6.666667   \n",
      "2          1952                           0       5619.0         3.333333   \n",
      "3          1976                           0       6416.0         4.000000   \n",
      "4          1984                           0      10759.0         7.000000   \n",
      "...         ...                         ...          ...              ...   \n",
      "9995       1982                           3      15246.0         7.000000   \n",
      "9996       1970                           0       6577.0         4.000000   \n",
      "9997       1981                           1       7623.0         4.000000   \n",
      "9998       1979                           2      13939.2         7.000000   \n",
      "9999       2013                           0       4878.0         5.000000   \n",
      "\n",
      "      MedianStudentsPerTeacher  numOfBathrooms  numOfBedrooms  priceRange  \n",
      "0                           17             4.0              4           5  \n",
      "1                           16             3.0              4           2  \n",
      "2                           11             1.0              2           0  \n",
      "3                           14             2.0              4           0  \n",
      "4                           16             3.0              5           5  \n",
      "...                        ...             ...            ...         ...  \n",
      "9995                        17             3.0              3           5  \n",
      "9996                        14             2.0              3           4  \n",
      "9997                        13             2.0              3           2  \n",
      "9998                        17             3.0              3           4  \n",
      "9999                        11             2.0              3           0  \n",
      "\n",
      "[10000 rows x 14 columns]\n"
     ]
    }
   ],
   "source": [
    "from sklearn.preprocessing import OrdinalEncoder\n",
    "import pandas as pd\n",
    "\n",
    "# Create a sample DataFrame with an ordinal column\n",
    "data = {'Education': ['High School', 'Bachelor', 'Master', 'PhD', 'Bachelor', 'Master']}\n",
    "df_2 = pd.DataFrame(data)\n",
    "\n",
    "# Define the ordinal categories in the desired order\n",
    "ordinal_categories = ['High School', 'Bachelor', 'Master', 'PhD']\n",
    "\n",
    "# Create an instance of OrdinalEncoder with the specified categories\n",
    "encoder = OrdinalEncoder(categories=[ordinal_categories])\n",
    "\n",
    "# Fit and transform the encoder on the ordinal column\n",
    "encoded_values = encoder.fit_transform(df_2[['Education']])\n",
    "\n",
    "# Replace the original column with the encoded values\n",
    "df_2['Education_Encoded'] = encoded_values\n",
    "\n",
    "# Print the resulting DataFrame\n",
    "print(df)\n"
   ]
  },
  {
   "cell_type": "code",
   "execution_count": null,
   "id": "55745ad7",
   "metadata": {},
   "outputs": [],
   "source": []
  }
 ],
 "metadata": {
  "kernelspec": {
   "display_name": "Python 3 (ipykernel)",
   "language": "python",
   "name": "python3"
  },
  "language_info": {
   "codemirror_mode": {
    "name": "ipython",
    "version": 3
   },
   "file_extension": ".py",
   "mimetype": "text/x-python",
   "name": "python",
   "nbconvert_exporter": "python",
   "pygments_lexer": "ipython3",
   "version": "3.10.9"
  }
 },
 "nbformat": 4,
 "nbformat_minor": 5
}
